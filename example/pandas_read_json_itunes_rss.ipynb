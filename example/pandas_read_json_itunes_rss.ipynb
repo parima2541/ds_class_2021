{
 "cells": [
  {
   "cell_type": "markdown",
   "metadata": {
    "colab_type": "text",
    "id": "FCc91MDd4ZPM"
   },
   "source": [
    "# read JSON from URL"
   ]
  },
  {
   "cell_type": "code",
   "execution_count": 1,
   "metadata": {
    "colab": {},
    "colab_type": "code",
    "id": "F-sgpFdr4ZPW"
   },
   "outputs": [],
   "source": [
    "import pandas as pd\n",
    "\n",
    "from IPython.display import JSON"
   ]
  },
  {
   "cell_type": "code",
   "execution_count": 2,
   "metadata": {},
   "outputs": [
    {
     "name": "stdout",
     "output_type": "stream",
     "text": [
      "pandas version = 1.2.0\n"
     ]
    }
   ],
   "source": [
    "print(f'pandas version = {pd.__version__}')"
   ]
  },
  {
   "cell_type": "markdown",
   "metadata": {
    "colab_type": "text",
    "id": "pcgld_ia4ZP7"
   },
   "source": [
    "## Method 1: use pandas.read_json()"
   ]
  },
  {
   "cell_type": "code",
   "execution_count": 90,
   "metadata": {
    "colab": {
     "base_uri": "https://localhost:8080/",
     "height": 504
    },
    "colab_type": "code",
    "id": "8TNJPTDe4ZQC",
    "outputId": "f7360323-a6fd-4bfe-a6c5-233010d7aec0"
   },
   "outputs": [
    {
     "data": {
      "text/html": [
       "<div>\n",
       "<style scoped>\n",
       "    .dataframe tbody tr th:only-of-type {\n",
       "        vertical-align: middle;\n",
       "    }\n",
       "\n",
       "    .dataframe tbody tr th {\n",
       "        vertical-align: top;\n",
       "    }\n",
       "\n",
       "    .dataframe thead th {\n",
       "        text-align: right;\n",
       "    }\n",
       "</style>\n",
       "<table border=\"1\" class=\"dataframe\">\n",
       "  <thead>\n",
       "    <tr style=\"text-align: right;\">\n",
       "      <th></th>\n",
       "      <th>watTh</th>\n",
       "      <th>watEn</th>\n",
       "      <th>lat</th>\n",
       "      <th>lon</th>\n",
       "      <th>belief</th>\n",
       "    </tr>\n",
       "  </thead>\n",
       "  <tbody>\n",
       "    <tr>\n",
       "      <th>0</th>\n",
       "      <td>วัดกัลยาณมิตรวรมหาวิหาร</td>\n",
       "      <td>Wat Kalayanamitr</td>\n",
       "      <td>13.740000</td>\n",
       "      <td>100.491386</td>\n",
       "      <td>เดินทางปลอดภัยดี มีมิตรไมตรีที่ดี</td>\n",
       "    </tr>\n",
       "    <tr>\n",
       "      <th>1</th>\n",
       "      <td>วัดชนะสงครามราชวรมหาวิหาร</td>\n",
       "      <td>Wat Chana Songkhram</td>\n",
       "      <td>13.760978</td>\n",
       "      <td>100.495205</td>\n",
       "      <td>มีชัยชนะต่ออุปสรรคทั้งปวง</td>\n",
       "    </tr>\n",
       "    <tr>\n",
       "      <th>2</th>\n",
       "      <td>วัดพระเชตุพนวิมลมังคลารามราชวรมหาวิหาร</td>\n",
       "      <td>Wat Phra Chetuphon</td>\n",
       "      <td>13.746600</td>\n",
       "      <td>100.492996</td>\n",
       "      <td>ร่มเย็นเป็นสุข</td>\n",
       "    </tr>\n",
       "    <tr>\n",
       "      <th>3</th>\n",
       "      <td>วัดพระศรีรัตนศาสดาราม</td>\n",
       "      <td>Temple of the Emerald Buddha</td>\n",
       "      <td>13.751170</td>\n",
       "      <td>100.492577</td>\n",
       "      <td>เพื่อจิตใจสะอาด ดุจรัตนตรัย</td>\n",
       "    </tr>\n",
       "    <tr>\n",
       "      <th>4</th>\n",
       "      <td>วัดระฆังโฆสิตารามวรมหาวิหาร</td>\n",
       "      <td>Wat Rakhang Khositaram</td>\n",
       "      <td>13.752500</td>\n",
       "      <td>100.485001</td>\n",
       "      <td>ชื่อเสียงโด่งดัง คนนิยมชมชอบ</td>\n",
       "    </tr>\n",
       "    <tr>\n",
       "      <th>5</th>\n",
       "      <td>วัดสุทัศนเทพวรารามราชวรมหาวิหาร</td>\n",
       "      <td>Wat Suthat Thepwararam</td>\n",
       "      <td>13.751075</td>\n",
       "      <td>100.501053</td>\n",
       "      <td>วิสัยทัศน์กว้างไกล มีเสน่ห์แก่คนทั่วไป</td>\n",
       "    </tr>\n",
       "    <tr>\n",
       "      <th>6</th>\n",
       "      <td>วัดอรุณราชวรารามราชวรมหาวิหาร</td>\n",
       "      <td>Wat Arun</td>\n",
       "      <td>13.743110</td>\n",
       "      <td>100.486923</td>\n",
       "      <td>ชีวิตรุ่งโรจน์ทุกคืนวัน</td>\n",
       "    </tr>\n",
       "    <tr>\n",
       "      <th>7</th>\n",
       "      <td>วัดบวรนิเวศวิหาร</td>\n",
       "      <td>Wat Bavorn Niwet</td>\n",
       "      <td>13.761228</td>\n",
       "      <td>100.500226</td>\n",
       "      <td>พบแต่สิ่งดีงามในชีวิต</td>\n",
       "    </tr>\n",
       "    <tr>\n",
       "      <th>8</th>\n",
       "      <td>วัดสระเกศราชวรมหาวิหาร</td>\n",
       "      <td>Wat Sa Ket</td>\n",
       "      <td>13.754267</td>\n",
       "      <td>100.507178</td>\n",
       "      <td>เสริมสร้างความคิดอันเป็นสิริมงคล</td>\n",
       "    </tr>\n",
       "  </tbody>\n",
       "</table>\n",
       "</div>"
      ],
      "text/plain": [
       "                                    watTh                         watEn  \\\n",
       "0                 วัดกัลยาณมิตรวรมหาวิหาร              Wat Kalayanamitr   \n",
       "1               วัดชนะสงครามราชวรมหาวิหาร           Wat Chana Songkhram   \n",
       "2  วัดพระเชตุพนวิมลมังคลารามราชวรมหาวิหาร            Wat Phra Chetuphon   \n",
       "3                   วัดพระศรีรัตนศาสดาราม  Temple of the Emerald Buddha   \n",
       "4             วัดระฆังโฆสิตารามวรมหาวิหาร        Wat Rakhang Khositaram   \n",
       "5         วัดสุทัศนเทพวรารามราชวรมหาวิหาร        Wat Suthat Thepwararam   \n",
       "6           วัดอรุณราชวรารามราชวรมหาวิหาร                      Wat Arun   \n",
       "7                        วัดบวรนิเวศวิหาร              Wat Bavorn Niwet   \n",
       "8                  วัดสระเกศราชวรมหาวิหาร                    Wat Sa Ket   \n",
       "\n",
       "         lat         lon                                  belief  \n",
       "0  13.740000  100.491386       เดินทางปลอดภัยดี มีมิตรไมตรีที่ดี  \n",
       "1  13.760978  100.495205               มีชัยชนะต่ออุปสรรคทั้งปวง  \n",
       "2  13.746600  100.492996                          ร่มเย็นเป็นสุข  \n",
       "3  13.751170  100.492577             เพื่อจิตใจสะอาด ดุจรัตนตรัย  \n",
       "4  13.752500  100.485001            ชื่อเสียงโด่งดัง คนนิยมชมชอบ  \n",
       "5  13.751075  100.501053  วิสัยทัศน์กว้างไกล มีเสน่ห์แก่คนทั่วไป  \n",
       "6  13.743110  100.486923                 ชีวิตรุ่งโรจน์ทุกคืนวัน  \n",
       "7  13.761228  100.500226                   พบแต่สิ่งดีงามในชีวิต  \n",
       "8  13.754267  100.507178        เสริมสร้างความคิดอันเป็นสิริมงคล  "
      ]
     },
     "execution_count": 90,
     "metadata": {},
     "output_type": "execute_result"
    }
   ],
   "source": [
    "url = 'https://github.com/prasertcbs/test/raw/master/NineTemples.json'\n",
    "df = pd.read_json(url)\n",
    "df"
   ]
  },
  {
   "cell_type": "code",
   "execution_count": 91,
   "metadata": {
    "colab": {},
    "colab_type": "code",
    "id": "CoGCAvaT4ZQb",
    "outputId": "e18596e0-91b2-43b1-ae0a-2d23f4bc2328"
   },
   "outputs": [
    {
     "data": {
      "text/plain": [
       "Index(['watTh', 'watEn', 'lat', 'lon', 'belief'], dtype='object')"
      ]
     },
     "execution_count": 91,
     "metadata": {},
     "output_type": "execute_result"
    }
   ],
   "source": [
    "df.columns"
   ]
  },
  {
   "cell_type": "code",
   "execution_count": 92,
   "metadata": {
    "colab": {},
    "colab_type": "code",
    "id": "R2epazsG4ZQy",
    "outputId": "834cef8d-9e93-473b-f8da-26376b6daca6",
    "scrolled": true
   },
   "outputs": [
    {
     "data": {
      "text/html": [
       "<div>\n",
       "<style scoped>\n",
       "    .dataframe tbody tr th:only-of-type {\n",
       "        vertical-align: middle;\n",
       "    }\n",
       "\n",
       "    .dataframe tbody tr th {\n",
       "        vertical-align: top;\n",
       "    }\n",
       "\n",
       "    .dataframe thead th {\n",
       "        text-align: right;\n",
       "    }\n",
       "</style>\n",
       "<table border=\"1\" class=\"dataframe\">\n",
       "  <thead>\n",
       "    <tr style=\"text-align: right;\">\n",
       "      <th></th>\n",
       "      <th>watTh</th>\n",
       "      <th>watEn</th>\n",
       "      <th>lat</th>\n",
       "      <th>lon</th>\n",
       "      <th>belief</th>\n",
       "    </tr>\n",
       "  </thead>\n",
       "  <tbody>\n",
       "    <tr>\n",
       "      <th>0</th>\n",
       "      <td>วัดกัลยาณมิตรวรมหาวิหาร</td>\n",
       "      <td>Wat Kalayanamitr</td>\n",
       "      <td>13.740000</td>\n",
       "      <td>100.491386</td>\n",
       "      <td>เดินทางปลอดภัยดี มีมิตรไมตรีที่ดี</td>\n",
       "    </tr>\n",
       "    <tr>\n",
       "      <th>1</th>\n",
       "      <td>วัดชนะสงครามราชวรมหาวิหาร</td>\n",
       "      <td>Wat Chana Songkhram</td>\n",
       "      <td>13.760978</td>\n",
       "      <td>100.495205</td>\n",
       "      <td>มีชัยชนะต่ออุปสรรคทั้งปวง</td>\n",
       "    </tr>\n",
       "    <tr>\n",
       "      <th>2</th>\n",
       "      <td>วัดพระเชตุพนวิมลมังคลารามราชวรมหาวิหาร</td>\n",
       "      <td>Wat Phra Chetuphon</td>\n",
       "      <td>13.746600</td>\n",
       "      <td>100.492996</td>\n",
       "      <td>ร่มเย็นเป็นสุข</td>\n",
       "    </tr>\n",
       "    <tr>\n",
       "      <th>3</th>\n",
       "      <td>วัดพระศรีรัตนศาสดาราม</td>\n",
       "      <td>Temple of the Emerald Buddha</td>\n",
       "      <td>13.751170</td>\n",
       "      <td>100.492577</td>\n",
       "      <td>เพื่อจิตใจสะอาด ดุจรัตนตรัย</td>\n",
       "    </tr>\n",
       "    <tr>\n",
       "      <th>4</th>\n",
       "      <td>วัดระฆังโฆสิตารามวรมหาวิหาร</td>\n",
       "      <td>Wat Rakhang Khositaram</td>\n",
       "      <td>13.752500</td>\n",
       "      <td>100.485001</td>\n",
       "      <td>ชื่อเสียงโด่งดัง คนนิยมชมชอบ</td>\n",
       "    </tr>\n",
       "    <tr>\n",
       "      <th>5</th>\n",
       "      <td>วัดสุทัศนเทพวรารามราชวรมหาวิหาร</td>\n",
       "      <td>Wat Suthat Thepwararam</td>\n",
       "      <td>13.751075</td>\n",
       "      <td>100.501053</td>\n",
       "      <td>วิสัยทัศน์กว้างไกล มีเสน่ห์แก่คนทั่วไป</td>\n",
       "    </tr>\n",
       "    <tr>\n",
       "      <th>6</th>\n",
       "      <td>วัดอรุณราชวรารามราชวรมหาวิหาร</td>\n",
       "      <td>Wat Arun</td>\n",
       "      <td>13.743110</td>\n",
       "      <td>100.486923</td>\n",
       "      <td>ชีวิตรุ่งโรจน์ทุกคืนวัน</td>\n",
       "    </tr>\n",
       "    <tr>\n",
       "      <th>7</th>\n",
       "      <td>วัดบวรนิเวศวิหาร</td>\n",
       "      <td>Wat Bavorn Niwet</td>\n",
       "      <td>13.761228</td>\n",
       "      <td>100.500226</td>\n",
       "      <td>พบแต่สิ่งดีงามในชีวิต</td>\n",
       "    </tr>\n",
       "    <tr>\n",
       "      <th>8</th>\n",
       "      <td>วัดสระเกศราชวรมหาวิหาร</td>\n",
       "      <td>Wat Sa Ket</td>\n",
       "      <td>13.754267</td>\n",
       "      <td>100.507178</td>\n",
       "      <td>เสริมสร้างความคิดอันเป็นสิริมงคล</td>\n",
       "    </tr>\n",
       "  </tbody>\n",
       "</table>\n",
       "</div>"
      ],
      "text/plain": [
       "                                    watTh                         watEn  \\\n",
       "0                 วัดกัลยาณมิตรวรมหาวิหาร              Wat Kalayanamitr   \n",
       "1               วัดชนะสงครามราชวรมหาวิหาร           Wat Chana Songkhram   \n",
       "2  วัดพระเชตุพนวิมลมังคลารามราชวรมหาวิหาร            Wat Phra Chetuphon   \n",
       "3                   วัดพระศรีรัตนศาสดาราม  Temple of the Emerald Buddha   \n",
       "4             วัดระฆังโฆสิตารามวรมหาวิหาร        Wat Rakhang Khositaram   \n",
       "5         วัดสุทัศนเทพวรารามราชวรมหาวิหาร        Wat Suthat Thepwararam   \n",
       "6           วัดอรุณราชวรารามราชวรมหาวิหาร                      Wat Arun   \n",
       "7                        วัดบวรนิเวศวิหาร              Wat Bavorn Niwet   \n",
       "8                  วัดสระเกศราชวรมหาวิหาร                    Wat Sa Ket   \n",
       "\n",
       "         lat         lon                                  belief  \n",
       "0  13.740000  100.491386       เดินทางปลอดภัยดี มีมิตรไมตรีที่ดี  \n",
       "1  13.760978  100.495205               มีชัยชนะต่ออุปสรรคทั้งปวง  \n",
       "2  13.746600  100.492996                          ร่มเย็นเป็นสุข  \n",
       "3  13.751170  100.492577             เพื่อจิตใจสะอาด ดุจรัตนตรัย  \n",
       "4  13.752500  100.485001            ชื่อเสียงโด่งดัง คนนิยมชมชอบ  \n",
       "5  13.751075  100.501053  วิสัยทัศน์กว้างไกล มีเสน่ห์แก่คนทั่วไป  \n",
       "6  13.743110  100.486923                 ชีวิตรุ่งโรจน์ทุกคืนวัน  \n",
       "7  13.761228  100.500226                   พบแต่สิ่งดีงามในชีวิต  \n",
       "8  13.754267  100.507178        เสริมสร้างความคิดอันเป็นสิริมงคล  "
      ]
     },
     "execution_count": 92,
     "metadata": {},
     "output_type": "execute_result"
    }
   ],
   "source": [
    "df = df[['watTh', 'watEn', 'lat', 'lon', 'belief']]\n",
    "df"
   ]
  },
  {
   "cell_type": "code",
   "execution_count": 97,
   "metadata": {},
   "outputs": [
    {
     "data": {
      "text/plain": [
       "0             วัดกัลยาณมิตรวรมหาวิหาร|Wat Kalayanamitr\n",
       "1        วัดชนะสงครามราชวรมหาวิหาร|Wat Chana Songkhram\n",
       "2    วัดพระเชตุพนวิมลมังคลารามราชวรมหาวิหาร|Wat Phr...\n",
       "3    วัดพระศรีรัตนศาสดาราม|Temple of the Emerald Bu...\n",
       "4    วัดระฆังโฆสิตารามวรมหาวิหาร|Wat Rakhang Khosit...\n",
       "5    วัดสุทัศนเทพวรารามราชวรมหาวิหาร|Wat Suthat The...\n",
       "6               วัดอรุณราชวรารามราชวรมหาวิหาร|Wat Arun\n",
       "7                    วัดบวรนิเวศวิหาร|Wat Bavorn Niwet\n",
       "8                    วัดสระเกศราชวรมหาวิหาร|Wat Sa Ket\n",
       "dtype: object"
      ]
     },
     "execution_count": 97,
     "metadata": {},
     "output_type": "execute_result"
    }
   ],
   "source": [
    "df['watTh'] + '|' + df['watEn']"
   ]
  },
  {
   "cell_type": "code",
   "execution_count": 100,
   "metadata": {},
   "outputs": [
    {
     "data": {
      "text/html": [
       "<div>\n",
       "<style scoped>\n",
       "    .dataframe tbody tr th:only-of-type {\n",
       "        vertical-align: middle;\n",
       "    }\n",
       "\n",
       "    .dataframe tbody tr th {\n",
       "        vertical-align: top;\n",
       "    }\n",
       "\n",
       "    .dataframe thead th {\n",
       "        text-align: right;\n",
       "    }\n",
       "</style>\n",
       "<table border=\"1\" class=\"dataframe\">\n",
       "  <thead>\n",
       "    <tr style=\"text-align: right;\">\n",
       "      <th></th>\n",
       "      <th>watTh</th>\n",
       "      <th>watEn</th>\n",
       "      <th>lat</th>\n",
       "      <th>lon</th>\n",
       "      <th>belief</th>\n",
       "      <th>geo</th>\n",
       "    </tr>\n",
       "  </thead>\n",
       "  <tbody>\n",
       "    <tr>\n",
       "      <th>0</th>\n",
       "      <td>วัดกัลยาณมิตรวรมหาวิหาร</td>\n",
       "      <td>Wat Kalayanamitr</td>\n",
       "      <td>13.740000</td>\n",
       "      <td>100.491386</td>\n",
       "      <td>เดินทางปลอดภัยดี มีมิตรไมตรีที่ดี</td>\n",
       "      <td>geo:13.74,100.491386</td>\n",
       "    </tr>\n",
       "    <tr>\n",
       "      <th>1</th>\n",
       "      <td>วัดชนะสงครามราชวรมหาวิหาร</td>\n",
       "      <td>Wat Chana Songkhram</td>\n",
       "      <td>13.760978</td>\n",
       "      <td>100.495205</td>\n",
       "      <td>มีชัยชนะต่ออุปสรรคทั้งปวง</td>\n",
       "      <td>geo:13.760978,100.495205</td>\n",
       "    </tr>\n",
       "    <tr>\n",
       "      <th>2</th>\n",
       "      <td>วัดพระเชตุพนวิมลมังคลารามราชวรมหาวิหาร</td>\n",
       "      <td>Wat Phra Chetuphon</td>\n",
       "      <td>13.746600</td>\n",
       "      <td>100.492996</td>\n",
       "      <td>ร่มเย็นเป็นสุข</td>\n",
       "      <td>geo:13.7466,100.492996</td>\n",
       "    </tr>\n",
       "    <tr>\n",
       "      <th>3</th>\n",
       "      <td>วัดพระศรีรัตนศาสดาราม</td>\n",
       "      <td>Temple of the Emerald Buddha</td>\n",
       "      <td>13.751170</td>\n",
       "      <td>100.492577</td>\n",
       "      <td>เพื่อจิตใจสะอาด ดุจรัตนตรัย</td>\n",
       "      <td>geo:13.75117,100.492577</td>\n",
       "    </tr>\n",
       "    <tr>\n",
       "      <th>4</th>\n",
       "      <td>วัดระฆังโฆสิตารามวรมหาวิหาร</td>\n",
       "      <td>Wat Rakhang Khositaram</td>\n",
       "      <td>13.752500</td>\n",
       "      <td>100.485001</td>\n",
       "      <td>ชื่อเสียงโด่งดัง คนนิยมชมชอบ</td>\n",
       "      <td>geo:13.7525,100.485001</td>\n",
       "    </tr>\n",
       "    <tr>\n",
       "      <th>5</th>\n",
       "      <td>วัดสุทัศนเทพวรารามราชวรมหาวิหาร</td>\n",
       "      <td>Wat Suthat Thepwararam</td>\n",
       "      <td>13.751075</td>\n",
       "      <td>100.501053</td>\n",
       "      <td>วิสัยทัศน์กว้างไกล มีเสน่ห์แก่คนทั่วไป</td>\n",
       "      <td>geo:13.751075,100.501053</td>\n",
       "    </tr>\n",
       "    <tr>\n",
       "      <th>6</th>\n",
       "      <td>วัดอรุณราชวรารามราชวรมหาวิหาร</td>\n",
       "      <td>Wat Arun</td>\n",
       "      <td>13.743110</td>\n",
       "      <td>100.486923</td>\n",
       "      <td>ชีวิตรุ่งโรจน์ทุกคืนวัน</td>\n",
       "      <td>geo:13.74311,100.486923</td>\n",
       "    </tr>\n",
       "    <tr>\n",
       "      <th>7</th>\n",
       "      <td>วัดบวรนิเวศวิหาร</td>\n",
       "      <td>Wat Bavorn Niwet</td>\n",
       "      <td>13.761228</td>\n",
       "      <td>100.500226</td>\n",
       "      <td>พบแต่สิ่งดีงามในชีวิต</td>\n",
       "      <td>geo:13.761228,100.500226</td>\n",
       "    </tr>\n",
       "    <tr>\n",
       "      <th>8</th>\n",
       "      <td>วัดสระเกศราชวรมหาวิหาร</td>\n",
       "      <td>Wat Sa Ket</td>\n",
       "      <td>13.754267</td>\n",
       "      <td>100.507178</td>\n",
       "      <td>เสริมสร้างความคิดอันเป็นสิริมงคล</td>\n",
       "      <td>geo:13.754267,100.507178</td>\n",
       "    </tr>\n",
       "  </tbody>\n",
       "</table>\n",
       "</div>"
      ],
      "text/plain": [
       "                                    watTh                         watEn  \\\n",
       "0                 วัดกัลยาณมิตรวรมหาวิหาร              Wat Kalayanamitr   \n",
       "1               วัดชนะสงครามราชวรมหาวิหาร           Wat Chana Songkhram   \n",
       "2  วัดพระเชตุพนวิมลมังคลารามราชวรมหาวิหาร            Wat Phra Chetuphon   \n",
       "3                   วัดพระศรีรัตนศาสดาราม  Temple of the Emerald Buddha   \n",
       "4             วัดระฆังโฆสิตารามวรมหาวิหาร        Wat Rakhang Khositaram   \n",
       "5         วัดสุทัศนเทพวรารามราชวรมหาวิหาร        Wat Suthat Thepwararam   \n",
       "6           วัดอรุณราชวรารามราชวรมหาวิหาร                      Wat Arun   \n",
       "7                        วัดบวรนิเวศวิหาร              Wat Bavorn Niwet   \n",
       "8                  วัดสระเกศราชวรมหาวิหาร                    Wat Sa Ket   \n",
       "\n",
       "         lat         lon                                  belief  \\\n",
       "0  13.740000  100.491386       เดินทางปลอดภัยดี มีมิตรไมตรีที่ดี   \n",
       "1  13.760978  100.495205               มีชัยชนะต่ออุปสรรคทั้งปวง   \n",
       "2  13.746600  100.492996                          ร่มเย็นเป็นสุข   \n",
       "3  13.751170  100.492577             เพื่อจิตใจสะอาด ดุจรัตนตรัย   \n",
       "4  13.752500  100.485001            ชื่อเสียงโด่งดัง คนนิยมชมชอบ   \n",
       "5  13.751075  100.501053  วิสัยทัศน์กว้างไกล มีเสน่ห์แก่คนทั่วไป   \n",
       "6  13.743110  100.486923                 ชีวิตรุ่งโรจน์ทุกคืนวัน   \n",
       "7  13.761228  100.500226                   พบแต่สิ่งดีงามในชีวิต   \n",
       "8  13.754267  100.507178        เสริมสร้างความคิดอันเป็นสิริมงคล   \n",
       "\n",
       "                        geo  \n",
       "0      geo:13.74,100.491386  \n",
       "1  geo:13.760978,100.495205  \n",
       "2    geo:13.7466,100.492996  \n",
       "3   geo:13.75117,100.492577  \n",
       "4    geo:13.7525,100.485001  \n",
       "5  geo:13.751075,100.501053  \n",
       "6   geo:13.74311,100.486923  \n",
       "7  geo:13.761228,100.500226  \n",
       "8  geo:13.754267,100.507178  "
      ]
     },
     "execution_count": 100,
     "metadata": {},
     "output_type": "execute_result"
    }
   ],
   "source": [
    "df['geo']='geo:' + df['lat'].map(str) + ',' + df['lon'].map(str)\n",
    "df"
   ]
  },
  {
   "cell_type": "markdown",
   "metadata": {},
   "source": [
    "## pokemon (column contains list)"
   ]
  },
  {
   "cell_type": "code",
   "execution_count": 121,
   "metadata": {},
   "outputs": [
    {
     "data": {
      "text/html": [
       "<div>\n",
       "<style scoped>\n",
       "    .dataframe tbody tr th:only-of-type {\n",
       "        vertical-align: middle;\n",
       "    }\n",
       "\n",
       "    .dataframe tbody tr th {\n",
       "        vertical-align: top;\n",
       "    }\n",
       "\n",
       "    .dataframe thead th {\n",
       "        text-align: right;\n",
       "    }\n",
       "</style>\n",
       "<table border=\"1\" class=\"dataframe\">\n",
       "  <thead>\n",
       "    <tr style=\"text-align: right;\">\n",
       "      <th></th>\n",
       "      <th>abilities</th>\n",
       "      <th>detailPageURL</th>\n",
       "      <th>weight</th>\n",
       "      <th>weakness</th>\n",
       "      <th>number</th>\n",
       "      <th>height</th>\n",
       "      <th>collectibles_slug</th>\n",
       "      <th>featured</th>\n",
       "      <th>slug</th>\n",
       "      <th>name</th>\n",
       "      <th>ThumbnailAltText</th>\n",
       "      <th>ThumbnailImage</th>\n",
       "      <th>id</th>\n",
       "      <th>type</th>\n",
       "    </tr>\n",
       "  </thead>\n",
       "  <tbody>\n",
       "    <tr>\n",
       "      <th>416</th>\n",
       "      <td>[Battle Armor]</td>\n",
       "      <td>/us/pokedex/anorith</td>\n",
       "      <td>27.6</td>\n",
       "      <td>[Steel, Water, Rock]</td>\n",
       "      <td>347</td>\n",
       "      <td>28</td>\n",
       "      <td>anorith</td>\n",
       "      <td>true</td>\n",
       "      <td>anorith</td>\n",
       "      <td>Anorith</td>\n",
       "      <td>Anorith</td>\n",
       "      <td>https://assets.pokemon.com/assets/cms2/img/pok...</td>\n",
       "      <td>347</td>\n",
       "      <td>[rock, bug]</td>\n",
       "    </tr>\n",
       "    <tr>\n",
       "      <th>702</th>\n",
       "      <td>[Shed Skin, Swarm]</td>\n",
       "      <td>/us/pokedex/karrablast</td>\n",
       "      <td>13.0</td>\n",
       "      <td>[Fire, Flying, Rock]</td>\n",
       "      <td>588</td>\n",
       "      <td>20</td>\n",
       "      <td>karrablast</td>\n",
       "      <td>true</td>\n",
       "      <td>karrablast</td>\n",
       "      <td>Karrablast</td>\n",
       "      <td>Karrablast</td>\n",
       "      <td>https://assets.pokemon.com/assets/cms2/img/pok...</td>\n",
       "      <td>588</td>\n",
       "      <td>[bug]</td>\n",
       "    </tr>\n",
       "    <tr>\n",
       "      <th>659</th>\n",
       "      <td>[Hustle]</td>\n",
       "      <td>/us/pokedex/darumaka</td>\n",
       "      <td>82.7</td>\n",
       "      <td>[Water, Ground, Rock]</td>\n",
       "      <td>554</td>\n",
       "      <td>24</td>\n",
       "      <td>darumaka</td>\n",
       "      <td>true</td>\n",
       "      <td>darumaka</td>\n",
       "      <td>Darumaka</td>\n",
       "      <td>Darumaka</td>\n",
       "      <td>https://assets.pokemon.com/assets/cms2/img/pok...</td>\n",
       "      <td>554</td>\n",
       "      <td>[fire]</td>\n",
       "    </tr>\n",
       "    <tr>\n",
       "      <th>16</th>\n",
       "      <td>[Compound Eyes]</td>\n",
       "      <td>/us/pokedex/butterfree</td>\n",
       "      <td>9999.0</td>\n",
       "      <td>[Fire, Flying, Electric, Ice, Rock]</td>\n",
       "      <td>12</td>\n",
       "      <td>669</td>\n",
       "      <td>butterfree</td>\n",
       "      <td>true</td>\n",
       "      <td>butterfree</td>\n",
       "      <td>Butterfree</td>\n",
       "      <td>Butterfree</td>\n",
       "      <td>https://assets.pokemon.com/assets/cms2/img/pok...</td>\n",
       "      <td>12</td>\n",
       "      <td>[bug, flying]</td>\n",
       "    </tr>\n",
       "    <tr>\n",
       "      <th>884</th>\n",
       "      <td>[Dancer]</td>\n",
       "      <td>/us/pokedex/oricorio</td>\n",
       "      <td>7.5</td>\n",
       "      <td>[Ice, Rock]</td>\n",
       "      <td>741</td>\n",
       "      <td>24</td>\n",
       "      <td>oricorio</td>\n",
       "      <td>true</td>\n",
       "      <td>oricorio</td>\n",
       "      <td>Oricorio</td>\n",
       "      <td>Oricorio</td>\n",
       "      <td>https://assets.pokemon.com/assets/cms2/img/pok...</td>\n",
       "      <td>741</td>\n",
       "      <td>[electric, flying]</td>\n",
       "    </tr>\n",
       "  </tbody>\n",
       "</table>\n",
       "</div>"
      ],
      "text/plain": [
       "              abilities           detailPageURL  weight  \\\n",
       "416      [Battle Armor]     /us/pokedex/anorith    27.6   \n",
       "702  [Shed Skin, Swarm]  /us/pokedex/karrablast    13.0   \n",
       "659            [Hustle]    /us/pokedex/darumaka    82.7   \n",
       "16      [Compound Eyes]  /us/pokedex/butterfree  9999.0   \n",
       "884            [Dancer]    /us/pokedex/oricorio     7.5   \n",
       "\n",
       "                                weakness  number  height collectibles_slug  \\\n",
       "416                 [Steel, Water, Rock]     347      28           anorith   \n",
       "702                 [Fire, Flying, Rock]     588      20        karrablast   \n",
       "659                [Water, Ground, Rock]     554      24          darumaka   \n",
       "16   [Fire, Flying, Electric, Ice, Rock]      12     669        butterfree   \n",
       "884                          [Ice, Rock]     741      24          oricorio   \n",
       "\n",
       "    featured        slug        name ThumbnailAltText  \\\n",
       "416     true     anorith     Anorith          Anorith   \n",
       "702     true  karrablast  Karrablast       Karrablast   \n",
       "659     true    darumaka    Darumaka         Darumaka   \n",
       "16      true  butterfree  Butterfree       Butterfree   \n",
       "884     true    oricorio    Oricorio         Oricorio   \n",
       "\n",
       "                                        ThumbnailImage   id  \\\n",
       "416  https://assets.pokemon.com/assets/cms2/img/pok...  347   \n",
       "702  https://assets.pokemon.com/assets/cms2/img/pok...  588   \n",
       "659  https://assets.pokemon.com/assets/cms2/img/pok...  554   \n",
       "16   https://assets.pokemon.com/assets/cms2/img/pok...   12   \n",
       "884  https://assets.pokemon.com/assets/cms2/img/pok...  741   \n",
       "\n",
       "                   type  \n",
       "416         [rock, bug]  \n",
       "702               [bug]  \n",
       "659              [fire]  \n",
       "16        [bug, flying]  \n",
       "884  [electric, flying]  "
      ]
     },
     "execution_count": 121,
     "metadata": {},
     "output_type": "execute_result"
    }
   ],
   "source": [
    "url='https://github.com/cheeaun/repokemon/raw/master/data/pokemon-list.json'\n",
    "df=pd.read_json(url)\n",
    "df=df.sample(5)\n",
    "df"
   ]
  },
  {
   "cell_type": "code",
   "execution_count": 122,
   "metadata": {},
   "outputs": [
    {
     "data": {
      "text/plain": [
       "['Steel', 'Water', 'Rock']"
      ]
     },
     "execution_count": 122,
     "metadata": {},
     "output_type": "execute_result"
    }
   ],
   "source": [
    "df['weakness'].iloc[0]"
   ]
  },
  {
   "cell_type": "code",
   "execution_count": 123,
   "metadata": {},
   "outputs": [
    {
     "data": {
      "text/plain": [
       "'Water'"
      ]
     },
     "execution_count": 123,
     "metadata": {},
     "output_type": "execute_result"
    }
   ],
   "source": [
    "df['weakness'].iloc[0][1]"
   ]
  },
  {
   "cell_type": "code",
   "execution_count": 124,
   "metadata": {},
   "outputs": [
    {
     "data": {
      "text/plain": [
       "416                 Steel|Water|Rock\n",
       "702                 Fire|Flying|Rock\n",
       "659                Water|Ground|Rock\n",
       "16     Fire|Flying|Electric|Ice|Rock\n",
       "884                         Ice|Rock\n",
       "Name: weakness, dtype: object"
      ]
     },
     "execution_count": 124,
     "metadata": {},
     "output_type": "execute_result"
    }
   ],
   "source": [
    "df['weakness'].str.join('|')"
   ]
  },
  {
   "cell_type": "code",
   "execution_count": 125,
   "metadata": {},
   "outputs": [
    {
     "data": {
      "text/html": [
       "<div>\n",
       "<style scoped>\n",
       "    .dataframe tbody tr th:only-of-type {\n",
       "        vertical-align: middle;\n",
       "    }\n",
       "\n",
       "    .dataframe tbody tr th {\n",
       "        vertical-align: top;\n",
       "    }\n",
       "\n",
       "    .dataframe thead th {\n",
       "        text-align: right;\n",
       "    }\n",
       "</style>\n",
       "<table border=\"1\" class=\"dataframe\">\n",
       "  <thead>\n",
       "    <tr style=\"text-align: right;\">\n",
       "      <th></th>\n",
       "      <th>Electric</th>\n",
       "      <th>Fire</th>\n",
       "      <th>Flying</th>\n",
       "      <th>Ground</th>\n",
       "      <th>Ice</th>\n",
       "      <th>Rock</th>\n",
       "      <th>Steel</th>\n",
       "      <th>Water</th>\n",
       "    </tr>\n",
       "  </thead>\n",
       "  <tbody>\n",
       "    <tr>\n",
       "      <th>416</th>\n",
       "      <td>0</td>\n",
       "      <td>0</td>\n",
       "      <td>0</td>\n",
       "      <td>0</td>\n",
       "      <td>0</td>\n",
       "      <td>1</td>\n",
       "      <td>1</td>\n",
       "      <td>1</td>\n",
       "    </tr>\n",
       "    <tr>\n",
       "      <th>702</th>\n",
       "      <td>0</td>\n",
       "      <td>1</td>\n",
       "      <td>1</td>\n",
       "      <td>0</td>\n",
       "      <td>0</td>\n",
       "      <td>1</td>\n",
       "      <td>0</td>\n",
       "      <td>0</td>\n",
       "    </tr>\n",
       "    <tr>\n",
       "      <th>659</th>\n",
       "      <td>0</td>\n",
       "      <td>0</td>\n",
       "      <td>0</td>\n",
       "      <td>1</td>\n",
       "      <td>0</td>\n",
       "      <td>1</td>\n",
       "      <td>0</td>\n",
       "      <td>1</td>\n",
       "    </tr>\n",
       "    <tr>\n",
       "      <th>16</th>\n",
       "      <td>1</td>\n",
       "      <td>1</td>\n",
       "      <td>1</td>\n",
       "      <td>0</td>\n",
       "      <td>1</td>\n",
       "      <td>1</td>\n",
       "      <td>0</td>\n",
       "      <td>0</td>\n",
       "    </tr>\n",
       "    <tr>\n",
       "      <th>884</th>\n",
       "      <td>0</td>\n",
       "      <td>0</td>\n",
       "      <td>0</td>\n",
       "      <td>0</td>\n",
       "      <td>1</td>\n",
       "      <td>1</td>\n",
       "      <td>0</td>\n",
       "      <td>0</td>\n",
       "    </tr>\n",
       "  </tbody>\n",
       "</table>\n",
       "</div>"
      ],
      "text/plain": [
       "     Electric  Fire  Flying  Ground  Ice  Rock  Steel  Water\n",
       "416         0     0       0       0    0     1      1      1\n",
       "702         0     1       1       0    0     1      0      0\n",
       "659         0     0       0       1    0     1      0      1\n",
       "16          1     1       1       0    1     1      0      0\n",
       "884         0     0       0       0    1     1      0      0"
      ]
     },
     "execution_count": 125,
     "metadata": {},
     "output_type": "execute_result"
    }
   ],
   "source": [
    "df['weakness'].str.join('|').str.get_dummies()"
   ]
  },
  {
   "cell_type": "markdown",
   "metadata": {
    "colab_type": "text",
    "id": "H6IZDBVY4ZRA"
   },
   "source": [
    "## Method 2: list and dict columns"
   ]
  },
  {
   "cell_type": "code",
   "execution_count": 7,
   "metadata": {
    "colab": {},
    "colab_type": "code",
    "id": "9Of1YkE64ZRF"
   },
   "outputs": [],
   "source": [
    "from collections import OrderedDict\n",
    "import json\n",
    "import requests"
   ]
  },
  {
   "cell_type": "code",
   "execution_count": 14,
   "metadata": {
    "colab": {
     "base_uri": "https://localhost:8080/",
     "height": 62
    },
    "colab_type": "code",
    "id": "K5tShX8B4ZRR",
    "outputId": "50171ca4-58b7-4f65-ba46-2632f3cc099a"
   },
   "outputs": [],
   "source": [
    "url = 'https://rss.itunes.apple.com/api/v1/th/apple-music/top-songs/all/5/non-explicit.json'\n",
    "r = requests.get(url)\n",
    "j=r.json()"
   ]
  },
  {
   "cell_type": "code",
   "execution_count": 15,
   "metadata": {},
   "outputs": [
    {
     "data": {
      "application/json": {
       "feed": {
        "author": {
         "name": "iTunes Store",
         "uri": "http://wwww.apple.com/th/itunes/"
        },
        "copyright": "Copyright © 2018 Apple Inc. Todos los derechos reservados.",
        "country": "th",
        "icon": "http://itunes.apple.com/favicon.ico",
        "id": "https://rss.itunes.apple.com/api/v1/th/apple-music/top-songs/all/5/non-explicit.json",
        "links": [
         {
          "self": "https://rss.itunes.apple.com/api/v1/th/apple-music/top-songs/all/5/non-explicit.json"
         },
         {
          "alternate": "https://itunes.apple.com/WebObjects/MZStore.woa/wa/viewTop?genreId=34&popId=81&app=music"
         }
        ],
        "results": [
         {
          "artistId": "1114898204",
          "artistName": "Three Man Down",
          "artistUrl": "https://music.apple.com/th/artist/three-man-down/1114898204?app=music",
          "artworkUrl100": "https://is2-ssl.mzstatic.com/image/thumb/Music124/v4/ce/87/9c/ce879c94-75f9-262b-37f8-c50391d29ec1/2009521901.jpg/200x200bb.png",
          "collectionName": "ถ้าเธอรักฉันจริง - Single",
          "copyright": "℗ 2020 GMM Grammy PCL.",
          "genres": [
           {
            "genreId": "21",
            "name": "Rock",
            "url": "https://itunes.apple.com/th/genre/id21"
           },
           {
            "genreId": "34",
            "name": "Music",
            "url": "https://itunes.apple.com/th/genre/id34"
           }
          ],
          "id": "1542919098",
          "kind": "song",
          "name": "ถ้าเธอรักฉันจริง",
          "releaseDate": "2020-12-15",
          "url": "https://music.apple.com/th/album/%E0%B8%96-%E0%B8%B2%E0%B9%80%E0%B8%98%E0%B8%AD%E0%B8%A3-%E0%B8%81%E0%B8%89-%E0%B8%99%E0%B8%88%E0%B8%A3-%E0%B8%87/1542919096?i=1542919098&app=music"
         },
         {
          "artistId": "1408535810",
          "artistName": "F.HERO",
          "artistUrl": "https://music.apple.com/th/artist/f-hero/1408535810?app=music",
          "artworkUrl100": "https://is5-ssl.mzstatic.com/image/thumb/Music124/v4/ed/65/53/ed6553f4-1494-576a-1c9a-1647ea8ddd84/cover.jpg/200x200bb.png",
          "collectionName": "จำเลยรัก (feat. Txrbo) [Defendant Of Love] - Single",
          "copyright": "℗ 2020 What The Duck",
          "genres": [
           {
            "genreId": "18",
            "name": "Hip-Hop/Rap",
            "url": "https://itunes.apple.com/th/genre/id18"
           },
           {
            "genreId": "34",
            "name": "Music",
            "url": "https://itunes.apple.com/th/genre/id34"
           }
          ],
          "id": "1538397084",
          "kind": "song",
          "name": "จำเลยรัก (feat. Txrbo) [Defendant Of Love]",
          "releaseDate": "2020-11-17",
          "url": "https://music.apple.com/th/album/%E0%B8%88%E0%B8%B3%E0%B9%80%E0%B8%A5%E0%B8%A2%E0%B8%A3-%E0%B8%81-feat-txrbo-defendant-of-love/1538396965?i=1538397084&app=music"
         },
         {
          "artistId": "1456053491",
          "artistName": "Anatomy Rabbit",
          "artistUrl": "https://music.apple.com/th/artist/anatomy-rabbit/1456053491?app=music",
          "artworkUrl100": "https://is4-ssl.mzstatic.com/image/thumb/Music114/v4/ef/2d/d9/ef2dd9d2-15d5-ad42-dd7f-6a57549a1b48/859744215054_cover.jpg/200x200bb.png",
          "collectionName": "Extraordinary - Single",
          "copyright": "℗ 2020 Anatomy Rabbit",
          "genres": [
           {
            "genreId": "14",
            "name": "Pop",
            "url": "https://itunes.apple.com/th/genre/id14"
           },
           {
            "genreId": "34",
            "name": "Music",
            "url": "https://itunes.apple.com/th/genre/id34"
           }
          ],
          "id": "1543654428",
          "kind": "song",
          "name": "Extraordinary",
          "releaseDate": "2020-12-10",
          "url": "https://music.apple.com/th/album/extraordinary/1543654427?i=1543654428&app=music"
         },
         {
          "artistId": "409076743",
          "artistName": "IU",
          "artistUrl": "https://music.apple.com/th/artist/iu/409076743?app=music",
          "artworkUrl100": "https://is1-ssl.mzstatic.com/image/thumb/Music114/v4/0a/75/d6/0a75d69e-70e7-3d7a-62da-5b198cd03673/cover_KM0012462_1.jpg/200x200bb.png",
          "collectionName": "Celebrity - Single",
          "copyright": "℗ 2021 EDAM Entertainment",
          "genres": [
           {
            "genreId": "51",
            "name": "K-Pop",
            "url": "https://itunes.apple.com/th/genre/id51"
           },
           {
            "genreId": "34",
            "name": "Music",
            "url": "https://itunes.apple.com/th/genre/id34"
           },
           {
            "genreId": "14",
            "name": "Pop",
            "url": "https://itunes.apple.com/th/genre/id14"
           }
          ],
          "id": "1550907277",
          "kind": "song",
          "name": "Celebrity",
          "releaseDate": "2021-01-27",
          "url": "https://music.apple.com/th/album/celebrity/1550907276?i=1550907277&app=music"
         },
         {
          "artistId": "1402222881",
          "artistName": "Pink Sweat$",
          "artistUrl": "https://music.apple.com/th/artist/pink-sweat%24/1402222881?app=music",
          "artworkUrl100": "https://is2-ssl.mzstatic.com/image/thumb/Music114/v4/87/d2/64/87d264d1-1d6f-b3fe-03d5-569836d8381f/075679810465.jpg/200x200bb.png",
          "collectionName": "The Prelude - EP",
          "copyright": "℗ 2020 Atlantic Recording Corporation",
          "genres": [
           {
            "genreId": "15",
            "name": "R&B/Soul",
            "url": "https://itunes.apple.com/th/genre/id15"
           },
           {
            "genreId": "34",
            "name": "Music",
            "url": "https://itunes.apple.com/th/genre/id34"
           }
          ],
          "id": "1523339738",
          "kind": "song",
          "name": "At My Worst",
          "releaseDate": "2020-07-17",
          "url": "https://music.apple.com/th/album/at-my-worst/1523339532?i=1523339738&app=music"
         }
        ],
        "title": "Top Songs",
        "updated": "2021-02-03T01:44:28.000-08:00"
       }
      },
      "text/plain": [
       "<IPython.core.display.JSON object>"
      ]
     },
     "execution_count": 15,
     "metadata": {
      "application/json": {
       "expanded": false,
       "root": "root"
      }
     },
     "output_type": "execute_result"
    }
   ],
   "source": [
    "JSON(j)"
   ]
  },
  {
   "cell_type": "code",
   "execution_count": 24,
   "metadata": {},
   "outputs": [
    {
     "data": {
      "application/json": [
       {
        "artistId": "1114898204",
        "artistName": "Three Man Down",
        "artistUrl": "https://music.apple.com/th/artist/three-man-down/1114898204?app=music",
        "artworkUrl100": "https://is2-ssl.mzstatic.com/image/thumb/Music124/v4/ce/87/9c/ce879c94-75f9-262b-37f8-c50391d29ec1/2009521901.jpg/200x200bb.png",
        "collectionName": "ถ้าเธอรักฉันจริง - Single",
        "copyright": "℗ 2020 GMM Grammy PCL.",
        "genres": [
         {
          "genreId": "21",
          "name": "Rock",
          "url": "https://itunes.apple.com/th/genre/id21"
         },
         {
          "genreId": "34",
          "name": "Music",
          "url": "https://itunes.apple.com/th/genre/id34"
         }
        ],
        "id": "1542919098",
        "kind": "song",
        "name": "ถ้าเธอรักฉันจริง",
        "releaseDate": "2020-12-15",
        "url": "https://music.apple.com/th/album/%E0%B8%96-%E0%B8%B2%E0%B9%80%E0%B8%98%E0%B8%AD%E0%B8%A3-%E0%B8%81%E0%B8%89-%E0%B8%99%E0%B8%88%E0%B8%A3-%E0%B8%87/1542919096?i=1542919098&app=music"
       },
       {
        "artistId": "1408535810",
        "artistName": "F.HERO",
        "artistUrl": "https://music.apple.com/th/artist/f-hero/1408535810?app=music",
        "artworkUrl100": "https://is5-ssl.mzstatic.com/image/thumb/Music124/v4/ed/65/53/ed6553f4-1494-576a-1c9a-1647ea8ddd84/cover.jpg/200x200bb.png",
        "collectionName": "จำเลยรัก (feat. Txrbo) [Defendant Of Love] - Single",
        "copyright": "℗ 2020 What The Duck",
        "genres": [
         {
          "genreId": "18",
          "name": "Hip-Hop/Rap",
          "url": "https://itunes.apple.com/th/genre/id18"
         },
         {
          "genreId": "34",
          "name": "Music",
          "url": "https://itunes.apple.com/th/genre/id34"
         }
        ],
        "id": "1538397084",
        "kind": "song",
        "name": "จำเลยรัก (feat. Txrbo) [Defendant Of Love]",
        "releaseDate": "2020-11-17",
        "url": "https://music.apple.com/th/album/%E0%B8%88%E0%B8%B3%E0%B9%80%E0%B8%A5%E0%B8%A2%E0%B8%A3-%E0%B8%81-feat-txrbo-defendant-of-love/1538396965?i=1538397084&app=music"
       },
       {
        "artistId": "1456053491",
        "artistName": "Anatomy Rabbit",
        "artistUrl": "https://music.apple.com/th/artist/anatomy-rabbit/1456053491?app=music",
        "artworkUrl100": "https://is4-ssl.mzstatic.com/image/thumb/Music114/v4/ef/2d/d9/ef2dd9d2-15d5-ad42-dd7f-6a57549a1b48/859744215054_cover.jpg/200x200bb.png",
        "collectionName": "Extraordinary - Single",
        "copyright": "℗ 2020 Anatomy Rabbit",
        "genres": [
         {
          "genreId": "14",
          "name": "Pop",
          "url": "https://itunes.apple.com/th/genre/id14"
         },
         {
          "genreId": "34",
          "name": "Music",
          "url": "https://itunes.apple.com/th/genre/id34"
         }
        ],
        "id": "1543654428",
        "kind": "song",
        "name": "Extraordinary",
        "releaseDate": "2020-12-10",
        "url": "https://music.apple.com/th/album/extraordinary/1543654427?i=1543654428&app=music"
       },
       {
        "artistId": "409076743",
        "artistName": "IU",
        "artistUrl": "https://music.apple.com/th/artist/iu/409076743?app=music",
        "artworkUrl100": "https://is1-ssl.mzstatic.com/image/thumb/Music114/v4/0a/75/d6/0a75d69e-70e7-3d7a-62da-5b198cd03673/cover_KM0012462_1.jpg/200x200bb.png",
        "collectionName": "Celebrity - Single",
        "copyright": "℗ 2021 EDAM Entertainment",
        "genres": [
         {
          "genreId": "51",
          "name": "K-Pop",
          "url": "https://itunes.apple.com/th/genre/id51"
         },
         {
          "genreId": "34",
          "name": "Music",
          "url": "https://itunes.apple.com/th/genre/id34"
         },
         {
          "genreId": "14",
          "name": "Pop",
          "url": "https://itunes.apple.com/th/genre/id14"
         }
        ],
        "id": "1550907277",
        "kind": "song",
        "name": "Celebrity",
        "releaseDate": "2021-01-27",
        "url": "https://music.apple.com/th/album/celebrity/1550907276?i=1550907277&app=music"
       },
       {
        "artistId": "1402222881",
        "artistName": "Pink Sweat$",
        "artistUrl": "https://music.apple.com/th/artist/pink-sweat%24/1402222881?app=music",
        "artworkUrl100": "https://is2-ssl.mzstatic.com/image/thumb/Music114/v4/87/d2/64/87d264d1-1d6f-b3fe-03d5-569836d8381f/075679810465.jpg/200x200bb.png",
        "collectionName": "The Prelude - EP",
        "copyright": "℗ 2020 Atlantic Recording Corporation",
        "genres": [
         {
          "genreId": "15",
          "name": "R&B/Soul",
          "url": "https://itunes.apple.com/th/genre/id15"
         },
         {
          "genreId": "34",
          "name": "Music",
          "url": "https://itunes.apple.com/th/genre/id34"
         }
        ],
        "id": "1523339738",
        "kind": "song",
        "name": "At My Worst",
        "releaseDate": "2020-07-17",
        "url": "https://music.apple.com/th/album/at-my-worst/1523339532?i=1523339738&app=music"
       }
      ],
      "text/plain": [
       "<IPython.core.display.JSON object>"
      ]
     },
     "execution_count": 24,
     "metadata": {
      "application/json": {
       "expanded": false,
       "root": "root"
      }
     },
     "output_type": "execute_result"
    }
   ],
   "source": [
    "JSON(j['feed']['results'])"
   ]
  },
  {
   "cell_type": "code",
   "execution_count": 16,
   "metadata": {},
   "outputs": [],
   "source": [
    "# parsed = json.loads(r.text)\n",
    "# print(json.dumps(parsed, indent=2, sort_keys=True))"
   ]
  },
  {
   "cell_type": "markdown",
   "metadata": {},
   "source": [
    "### use requests.get(url) to read json text"
   ]
  },
  {
   "cell_type": "code",
   "execution_count": 28,
   "metadata": {},
   "outputs": [
    {
     "data": {
      "text/html": [
       "<div>\n",
       "<style scoped>\n",
       "    .dataframe tbody tr th:only-of-type {\n",
       "        vertical-align: middle;\n",
       "    }\n",
       "\n",
       "    .dataframe tbody tr th {\n",
       "        vertical-align: top;\n",
       "    }\n",
       "\n",
       "    .dataframe thead th {\n",
       "        text-align: right;\n",
       "    }\n",
       "</style>\n",
       "<table border=\"1\" class=\"dataframe\">\n",
       "  <thead>\n",
       "    <tr style=\"text-align: right;\">\n",
       "      <th></th>\n",
       "      <th>artistName</th>\n",
       "      <th>id</th>\n",
       "      <th>releaseDate</th>\n",
       "      <th>name</th>\n",
       "      <th>collectionName</th>\n",
       "      <th>kind</th>\n",
       "      <th>copyright</th>\n",
       "      <th>artistId</th>\n",
       "      <th>artistUrl</th>\n",
       "      <th>artworkUrl100</th>\n",
       "      <th>genres</th>\n",
       "      <th>url</th>\n",
       "    </tr>\n",
       "  </thead>\n",
       "  <tbody>\n",
       "    <tr>\n",
       "      <th>0</th>\n",
       "      <td>Three Man Down</td>\n",
       "      <td>1542919098</td>\n",
       "      <td>2020-12-15</td>\n",
       "      <td>ถ้าเธอรักฉันจริง</td>\n",
       "      <td>ถ้าเธอรักฉันจริง - Single</td>\n",
       "      <td>song</td>\n",
       "      <td>℗ 2020 GMM Grammy PCL.</td>\n",
       "      <td>1114898204</td>\n",
       "      <td>https://music.apple.com/th/artist/three-man-do...</td>\n",
       "      <td>https://is2-ssl.mzstatic.com/image/thumb/Music...</td>\n",
       "      <td>[{'genreId': '21', 'name': 'Rock', 'url': 'htt...</td>\n",
       "      <td>https://music.apple.com/th/album/%E0%B8%96-%E0...</td>\n",
       "    </tr>\n",
       "    <tr>\n",
       "      <th>1</th>\n",
       "      <td>F.HERO</td>\n",
       "      <td>1538397084</td>\n",
       "      <td>2020-11-17</td>\n",
       "      <td>จำเลยรัก (feat. Txrbo) [Defendant Of Love]</td>\n",
       "      <td>จำเลยรัก (feat. Txrbo) [Defendant Of Love] - S...</td>\n",
       "      <td>song</td>\n",
       "      <td>℗ 2020 What The Duck</td>\n",
       "      <td>1408535810</td>\n",
       "      <td>https://music.apple.com/th/artist/f-hero/14085...</td>\n",
       "      <td>https://is5-ssl.mzstatic.com/image/thumb/Music...</td>\n",
       "      <td>[{'genreId': '18', 'name': 'Hip-Hop/Rap', 'url...</td>\n",
       "      <td>https://music.apple.com/th/album/%E0%B8%88%E0%...</td>\n",
       "    </tr>\n",
       "    <tr>\n",
       "      <th>2</th>\n",
       "      <td>Anatomy Rabbit</td>\n",
       "      <td>1543654428</td>\n",
       "      <td>2020-12-10</td>\n",
       "      <td>Extraordinary</td>\n",
       "      <td>Extraordinary - Single</td>\n",
       "      <td>song</td>\n",
       "      <td>℗ 2020 Anatomy Rabbit</td>\n",
       "      <td>1456053491</td>\n",
       "      <td>https://music.apple.com/th/artist/anatomy-rabb...</td>\n",
       "      <td>https://is4-ssl.mzstatic.com/image/thumb/Music...</td>\n",
       "      <td>[{'genreId': '14', 'name': 'Pop', 'url': 'http...</td>\n",
       "      <td>https://music.apple.com/th/album/extraordinary...</td>\n",
       "    </tr>\n",
       "    <tr>\n",
       "      <th>3</th>\n",
       "      <td>IU</td>\n",
       "      <td>1550907277</td>\n",
       "      <td>2021-01-27</td>\n",
       "      <td>Celebrity</td>\n",
       "      <td>Celebrity - Single</td>\n",
       "      <td>song</td>\n",
       "      <td>℗ 2021 EDAM Entertainment</td>\n",
       "      <td>409076743</td>\n",
       "      <td>https://music.apple.com/th/artist/iu/409076743...</td>\n",
       "      <td>https://is1-ssl.mzstatic.com/image/thumb/Music...</td>\n",
       "      <td>[{'genreId': '51', 'name': 'K-Pop', 'url': 'ht...</td>\n",
       "      <td>https://music.apple.com/th/album/celebrity/155...</td>\n",
       "    </tr>\n",
       "    <tr>\n",
       "      <th>4</th>\n",
       "      <td>Pink Sweat$</td>\n",
       "      <td>1523339738</td>\n",
       "      <td>2020-07-17</td>\n",
       "      <td>At My Worst</td>\n",
       "      <td>The Prelude - EP</td>\n",
       "      <td>song</td>\n",
       "      <td>℗ 2020 Atlantic Recording Corporation</td>\n",
       "      <td>1402222881</td>\n",
       "      <td>https://music.apple.com/th/artist/pink-sweat%2...</td>\n",
       "      <td>https://is2-ssl.mzstatic.com/image/thumb/Music...</td>\n",
       "      <td>[{'genreId': '15', 'name': 'R&amp;B/Soul', 'url': ...</td>\n",
       "      <td>https://music.apple.com/th/album/at-my-worst/1...</td>\n",
       "    </tr>\n",
       "  </tbody>\n",
       "</table>\n",
       "</div>"
      ],
      "text/plain": [
       "       artistName          id releaseDate  \\\n",
       "0  Three Man Down  1542919098  2020-12-15   \n",
       "1          F.HERO  1538397084  2020-11-17   \n",
       "2  Anatomy Rabbit  1543654428  2020-12-10   \n",
       "3              IU  1550907277  2021-01-27   \n",
       "4     Pink Sweat$  1523339738  2020-07-17   \n",
       "\n",
       "                                         name  \\\n",
       "0                            ถ้าเธอรักฉันจริง   \n",
       "1  จำเลยรัก (feat. Txrbo) [Defendant Of Love]   \n",
       "2                               Extraordinary   \n",
       "3                                   Celebrity   \n",
       "4                                 At My Worst   \n",
       "\n",
       "                                      collectionName  kind  \\\n",
       "0                          ถ้าเธอรักฉันจริง - Single  song   \n",
       "1  จำเลยรัก (feat. Txrbo) [Defendant Of Love] - S...  song   \n",
       "2                             Extraordinary - Single  song   \n",
       "3                                 Celebrity - Single  song   \n",
       "4                                   The Prelude - EP  song   \n",
       "\n",
       "                               copyright    artistId  \\\n",
       "0                 ℗ 2020 GMM Grammy PCL.  1114898204   \n",
       "1                   ℗ 2020 What The Duck  1408535810   \n",
       "2                  ℗ 2020 Anatomy Rabbit  1456053491   \n",
       "3              ℗ 2021 EDAM Entertainment   409076743   \n",
       "4  ℗ 2020 Atlantic Recording Corporation  1402222881   \n",
       "\n",
       "                                           artistUrl  \\\n",
       "0  https://music.apple.com/th/artist/three-man-do...   \n",
       "1  https://music.apple.com/th/artist/f-hero/14085...   \n",
       "2  https://music.apple.com/th/artist/anatomy-rabb...   \n",
       "3  https://music.apple.com/th/artist/iu/409076743...   \n",
       "4  https://music.apple.com/th/artist/pink-sweat%2...   \n",
       "\n",
       "                                       artworkUrl100  \\\n",
       "0  https://is2-ssl.mzstatic.com/image/thumb/Music...   \n",
       "1  https://is5-ssl.mzstatic.com/image/thumb/Music...   \n",
       "2  https://is4-ssl.mzstatic.com/image/thumb/Music...   \n",
       "3  https://is1-ssl.mzstatic.com/image/thumb/Music...   \n",
       "4  https://is2-ssl.mzstatic.com/image/thumb/Music...   \n",
       "\n",
       "                                              genres  \\\n",
       "0  [{'genreId': '21', 'name': 'Rock', 'url': 'htt...   \n",
       "1  [{'genreId': '18', 'name': 'Hip-Hop/Rap', 'url...   \n",
       "2  [{'genreId': '14', 'name': 'Pop', 'url': 'http...   \n",
       "3  [{'genreId': '51', 'name': 'K-Pop', 'url': 'ht...   \n",
       "4  [{'genreId': '15', 'name': 'R&B/Soul', 'url': ...   \n",
       "\n",
       "                                                 url  \n",
       "0  https://music.apple.com/th/album/%E0%B8%96-%E0...  \n",
       "1  https://music.apple.com/th/album/%E0%B8%88%E0%...  \n",
       "2  https://music.apple.com/th/album/extraordinary...  \n",
       "3  https://music.apple.com/th/album/celebrity/155...  \n",
       "4  https://music.apple.com/th/album/at-my-worst/1...  "
      ]
     },
     "execution_count": 28,
     "metadata": {},
     "output_type": "execute_result"
    }
   ],
   "source": [
    "df=pd.DataFrame(j['feed']['results'])\n",
    "df"
   ]
  },
  {
   "cell_type": "code",
   "execution_count": 30,
   "metadata": {},
   "outputs": [
    {
     "data": {
      "text/plain": [
       "0    [{'genreId': '21', 'name': 'Rock', 'url': 'htt...\n",
       "1    [{'genreId': '18', 'name': 'Hip-Hop/Rap', 'url...\n",
       "2    [{'genreId': '14', 'name': 'Pop', 'url': 'http...\n",
       "3    [{'genreId': '51', 'name': 'K-Pop', 'url': 'ht...\n",
       "4    [{'genreId': '15', 'name': 'R&B/Soul', 'url': ...\n",
       "Name: genres, dtype: object"
      ]
     },
     "execution_count": 30,
     "metadata": {},
     "output_type": "execute_result"
    }
   ],
   "source": [
    "df['genres']"
   ]
  },
  {
   "cell_type": "code",
   "execution_count": 47,
   "metadata": {},
   "outputs": [],
   "source": [
    "df.to_csv('experiment.csv', index=False)"
   ]
  },
  {
   "cell_type": "code",
   "execution_count": 49,
   "metadata": {},
   "outputs": [
    {
     "data": {
      "text/html": [
       "<div>\n",
       "<style scoped>\n",
       "    .dataframe tbody tr th:only-of-type {\n",
       "        vertical-align: middle;\n",
       "    }\n",
       "\n",
       "    .dataframe tbody tr th {\n",
       "        vertical-align: top;\n",
       "    }\n",
       "\n",
       "    .dataframe thead th {\n",
       "        text-align: right;\n",
       "    }\n",
       "</style>\n",
       "<table border=\"1\" class=\"dataframe\">\n",
       "  <thead>\n",
       "    <tr style=\"text-align: right;\">\n",
       "      <th></th>\n",
       "      <th>artistName</th>\n",
       "      <th>id</th>\n",
       "      <th>releaseDate</th>\n",
       "      <th>name</th>\n",
       "      <th>collectionName</th>\n",
       "      <th>kind</th>\n",
       "      <th>copyright</th>\n",
       "      <th>artistId</th>\n",
       "      <th>artistUrl</th>\n",
       "      <th>artworkUrl100</th>\n",
       "      <th>genres</th>\n",
       "      <th>url</th>\n",
       "    </tr>\n",
       "  </thead>\n",
       "  <tbody>\n",
       "    <tr>\n",
       "      <th>0</th>\n",
       "      <td>Three Man Down</td>\n",
       "      <td>1542919098</td>\n",
       "      <td>2020-12-15</td>\n",
       "      <td>ถ้าเธอรักฉันจริง</td>\n",
       "      <td>ถ้าเธอรักฉันจริง - Single</td>\n",
       "      <td>song</td>\n",
       "      <td>℗ 2020 GMM Grammy PCL.</td>\n",
       "      <td>1114898204</td>\n",
       "      <td>https://music.apple.com/th/artist/three-man-do...</td>\n",
       "      <td>https://is2-ssl.mzstatic.com/image/thumb/Music...</td>\n",
       "      <td>[{'genreId': '21', 'name': 'Rock', 'url': 'htt...</td>\n",
       "      <td>https://music.apple.com/th/album/%E0%B8%96-%E0...</td>\n",
       "    </tr>\n",
       "    <tr>\n",
       "      <th>1</th>\n",
       "      <td>F.HERO</td>\n",
       "      <td>1538397084</td>\n",
       "      <td>2020-11-17</td>\n",
       "      <td>จำเลยรัก (feat. Txrbo) [Defendant Of Love]</td>\n",
       "      <td>จำเลยรัก (feat. Txrbo) [Defendant Of Love] - S...</td>\n",
       "      <td>song</td>\n",
       "      <td>℗ 2020 What The Duck</td>\n",
       "      <td>1408535810</td>\n",
       "      <td>https://music.apple.com/th/artist/f-hero/14085...</td>\n",
       "      <td>https://is5-ssl.mzstatic.com/image/thumb/Music...</td>\n",
       "      <td>[{'genreId': '18', 'name': 'Hip-Hop/Rap', 'url...</td>\n",
       "      <td>https://music.apple.com/th/album/%E0%B8%88%E0%...</td>\n",
       "    </tr>\n",
       "    <tr>\n",
       "      <th>2</th>\n",
       "      <td>Anatomy Rabbit</td>\n",
       "      <td>1543654428</td>\n",
       "      <td>2020-12-10</td>\n",
       "      <td>Extraordinary</td>\n",
       "      <td>Extraordinary - Single</td>\n",
       "      <td>song</td>\n",
       "      <td>℗ 2020 Anatomy Rabbit</td>\n",
       "      <td>1456053491</td>\n",
       "      <td>https://music.apple.com/th/artist/anatomy-rabb...</td>\n",
       "      <td>https://is4-ssl.mzstatic.com/image/thumb/Music...</td>\n",
       "      <td>[{'genreId': '14', 'name': 'Pop', 'url': 'http...</td>\n",
       "      <td>https://music.apple.com/th/album/extraordinary...</td>\n",
       "    </tr>\n",
       "    <tr>\n",
       "      <th>3</th>\n",
       "      <td>IU</td>\n",
       "      <td>1550907277</td>\n",
       "      <td>2021-01-27</td>\n",
       "      <td>Celebrity</td>\n",
       "      <td>Celebrity - Single</td>\n",
       "      <td>song</td>\n",
       "      <td>℗ 2021 EDAM Entertainment</td>\n",
       "      <td>409076743</td>\n",
       "      <td>https://music.apple.com/th/artist/iu/409076743...</td>\n",
       "      <td>https://is1-ssl.mzstatic.com/image/thumb/Music...</td>\n",
       "      <td>[{'genreId': '51', 'name': 'K-Pop', 'url': 'ht...</td>\n",
       "      <td>https://music.apple.com/th/album/celebrity/155...</td>\n",
       "    </tr>\n",
       "    <tr>\n",
       "      <th>4</th>\n",
       "      <td>Pink Sweat$</td>\n",
       "      <td>1523339738</td>\n",
       "      <td>2020-07-17</td>\n",
       "      <td>At My Worst</td>\n",
       "      <td>The Prelude - EP</td>\n",
       "      <td>song</td>\n",
       "      <td>℗ 2020 Atlantic Recording Corporation</td>\n",
       "      <td>1402222881</td>\n",
       "      <td>https://music.apple.com/th/artist/pink-sweat%2...</td>\n",
       "      <td>https://is2-ssl.mzstatic.com/image/thumb/Music...</td>\n",
       "      <td>[{'genreId': '15', 'name': 'R&amp;B/Soul', 'url': ...</td>\n",
       "      <td>https://music.apple.com/th/album/at-my-worst/1...</td>\n",
       "    </tr>\n",
       "  </tbody>\n",
       "</table>\n",
       "</div>"
      ],
      "text/plain": [
       "       artistName          id releaseDate  \\\n",
       "0  Three Man Down  1542919098  2020-12-15   \n",
       "1          F.HERO  1538397084  2020-11-17   \n",
       "2  Anatomy Rabbit  1543654428  2020-12-10   \n",
       "3              IU  1550907277  2021-01-27   \n",
       "4     Pink Sweat$  1523339738  2020-07-17   \n",
       "\n",
       "                                         name  \\\n",
       "0                            ถ้าเธอรักฉันจริง   \n",
       "1  จำเลยรัก (feat. Txrbo) [Defendant Of Love]   \n",
       "2                               Extraordinary   \n",
       "3                                   Celebrity   \n",
       "4                                 At My Worst   \n",
       "\n",
       "                                      collectionName  kind  \\\n",
       "0                          ถ้าเธอรักฉันจริง - Single  song   \n",
       "1  จำเลยรัก (feat. Txrbo) [Defendant Of Love] - S...  song   \n",
       "2                             Extraordinary - Single  song   \n",
       "3                                 Celebrity - Single  song   \n",
       "4                                   The Prelude - EP  song   \n",
       "\n",
       "                               copyright    artistId  \\\n",
       "0                 ℗ 2020 GMM Grammy PCL.  1114898204   \n",
       "1                   ℗ 2020 What The Duck  1408535810   \n",
       "2                  ℗ 2020 Anatomy Rabbit  1456053491   \n",
       "3              ℗ 2021 EDAM Entertainment   409076743   \n",
       "4  ℗ 2020 Atlantic Recording Corporation  1402222881   \n",
       "\n",
       "                                           artistUrl  \\\n",
       "0  https://music.apple.com/th/artist/three-man-do...   \n",
       "1  https://music.apple.com/th/artist/f-hero/14085...   \n",
       "2  https://music.apple.com/th/artist/anatomy-rabb...   \n",
       "3  https://music.apple.com/th/artist/iu/409076743...   \n",
       "4  https://music.apple.com/th/artist/pink-sweat%2...   \n",
       "\n",
       "                                       artworkUrl100  \\\n",
       "0  https://is2-ssl.mzstatic.com/image/thumb/Music...   \n",
       "1  https://is5-ssl.mzstatic.com/image/thumb/Music...   \n",
       "2  https://is4-ssl.mzstatic.com/image/thumb/Music...   \n",
       "3  https://is1-ssl.mzstatic.com/image/thumb/Music...   \n",
       "4  https://is2-ssl.mzstatic.com/image/thumb/Music...   \n",
       "\n",
       "                                              genres  \\\n",
       "0  [{'genreId': '21', 'name': 'Rock', 'url': 'htt...   \n",
       "1  [{'genreId': '18', 'name': 'Hip-Hop/Rap', 'url...   \n",
       "2  [{'genreId': '14', 'name': 'Pop', 'url': 'http...   \n",
       "3  [{'genreId': '51', 'name': 'K-Pop', 'url': 'ht...   \n",
       "4  [{'genreId': '15', 'name': 'R&B/Soul', 'url': ...   \n",
       "\n",
       "                                                 url  \n",
       "0  https://music.apple.com/th/album/%E0%B8%96-%E0...  \n",
       "1  https://music.apple.com/th/album/%E0%B8%88%E0%...  \n",
       "2  https://music.apple.com/th/album/extraordinary...  \n",
       "3  https://music.apple.com/th/album/celebrity/155...  \n",
       "4  https://music.apple.com/th/album/at-my-worst/1...  "
      ]
     },
     "execution_count": 49,
     "metadata": {},
     "output_type": "execute_result"
    }
   ],
   "source": [
    "df=pd.read_csv('experiment.csv')\n",
    "df"
   ]
  },
  {
   "cell_type": "code",
   "execution_count": 54,
   "metadata": {},
   "outputs": [
    {
     "name": "stdout",
     "output_type": "stream",
     "text": [
      "<class 'pandas.core.frame.DataFrame'>\n",
      "RangeIndex: 5 entries, 0 to 4\n",
      "Data columns (total 12 columns):\n",
      " #   Column          Non-Null Count  Dtype \n",
      "---  ------          --------------  ----- \n",
      " 0   artistName      5 non-null      object\n",
      " 1   id              5 non-null      int64 \n",
      " 2   releaseDate     5 non-null      object\n",
      " 3   name            5 non-null      object\n",
      " 4   collectionName  5 non-null      object\n",
      " 5   kind            5 non-null      object\n",
      " 6   copyright       5 non-null      object\n",
      " 7   artistId        5 non-null      int64 \n",
      " 8   artistUrl       5 non-null      object\n",
      " 9   artworkUrl100   5 non-null      object\n",
      " 10  genres          5 non-null      object\n",
      " 11  url             5 non-null      object\n",
      "dtypes: int64(2), object(10)\n",
      "memory usage: 608.0+ bytes\n"
     ]
    }
   ],
   "source": [
    "df.info()"
   ]
  },
  {
   "cell_type": "code",
   "execution_count": 55,
   "metadata": {},
   "outputs": [
    {
     "data": {
      "text/plain": [
       "str"
      ]
     },
     "execution_count": 55,
     "metadata": {},
     "output_type": "execute_result"
    }
   ],
   "source": [
    "type(df['genres'][0])"
   ]
  },
  {
   "cell_type": "code",
   "execution_count": 57,
   "metadata": {},
   "outputs": [
    {
     "data": {
      "text/plain": [
       "['apple', 'banana']"
      ]
     },
     "execution_count": 57,
     "metadata": {},
     "output_type": "execute_result"
    }
   ],
   "source": [
    "eval(\"['apple', 'banana']\")"
   ]
  },
  {
   "cell_type": "code",
   "execution_count": 59,
   "metadata": {},
   "outputs": [],
   "source": [
    "df['genres']=df['genres'].apply(lambda v: eval(v))"
   ]
  },
  {
   "cell_type": "code",
   "execution_count": 62,
   "metadata": {},
   "outputs": [
    {
     "data": {
      "text/plain": [
       "[{'genreId': '18',\n",
       "  'name': 'Hip-Hop/Rap',\n",
       "  'url': 'https://itunes.apple.com/th/genre/id18'},\n",
       " {'genreId': '34',\n",
       "  'name': 'Music',\n",
       "  'url': 'https://itunes.apple.com/th/genre/id34'}]"
      ]
     },
     "execution_count": 62,
     "metadata": {},
     "output_type": "execute_result"
    }
   ],
   "source": [
    "df[:5].genres[1]"
   ]
  },
  {
   "cell_type": "code",
   "execution_count": 64,
   "metadata": {},
   "outputs": [
    {
     "data": {
      "text/plain": [
       "0    [{'genreId': '21', 'name': 'Rock', 'url': 'htt...\n",
       "1    [{'genreId': '18', 'name': 'Hip-Hop/Rap', 'url...\n",
       "2    [{'genreId': '14', 'name': 'Pop', 'url': 'http...\n",
       "3    [{'genreId': '51', 'name': 'K-Pop', 'url': 'ht...\n",
       "4    [{'genreId': '15', 'name': 'R&B/Soul', 'url': ...\n",
       "Name: genres, dtype: object"
      ]
     },
     "execution_count": 64,
     "metadata": {},
     "output_type": "execute_result"
    }
   ],
   "source": [
    "df['genres']"
   ]
  },
  {
   "cell_type": "code",
   "execution_count": 33,
   "metadata": {},
   "outputs": [
    {
     "data": {
      "text/plain": [
       "{'genreId': '21',\n",
       " 'name': 'Rock',\n",
       " 'url': 'https://itunes.apple.com/th/genre/id21'}"
      ]
     },
     "execution_count": 33,
     "metadata": {},
     "output_type": "execute_result"
    }
   ],
   "source": [
    "df.iloc[0].genres[0]"
   ]
  },
  {
   "cell_type": "code",
   "execution_count": 34,
   "metadata": {},
   "outputs": [
    {
     "data": {
      "text/plain": [
       "{'genreId': '34',\n",
       " 'name': 'Music',\n",
       " 'url': 'https://itunes.apple.com/th/genre/id34'}"
      ]
     },
     "execution_count": 34,
     "metadata": {},
     "output_type": "execute_result"
    }
   ],
   "source": [
    "df.iloc[0].genres[1]"
   ]
  },
  {
   "cell_type": "code",
   "execution_count": 35,
   "metadata": {},
   "outputs": [
    {
     "data": {
      "text/plain": [
       "'21'"
      ]
     },
     "execution_count": 35,
     "metadata": {},
     "output_type": "execute_result"
    }
   ],
   "source": [
    "df.iloc[0].genres[0][\"genreId\"]"
   ]
  },
  {
   "cell_type": "code",
   "execution_count": 36,
   "metadata": {},
   "outputs": [
    {
     "data": {
      "text/plain": [
       "'Rock'"
      ]
     },
     "execution_count": 36,
     "metadata": {},
     "output_type": "execute_result"
    }
   ],
   "source": [
    "df.iloc[0].genres[0][\"name\"]"
   ]
  },
  {
   "cell_type": "code",
   "execution_count": 37,
   "metadata": {},
   "outputs": [
    {
     "data": {
      "text/plain": [
       "'18'"
      ]
     },
     "execution_count": 37,
     "metadata": {},
     "output_type": "execute_result"
    }
   ],
   "source": [
    "df.iloc[1].genres[0][\"genreId\"]"
   ]
  },
  {
   "cell_type": "code",
   "execution_count": 38,
   "metadata": {},
   "outputs": [
    {
     "data": {
      "text/plain": [
       "'Hip-Hop/Rap'"
      ]
     },
     "execution_count": 38,
     "metadata": {},
     "output_type": "execute_result"
    }
   ],
   "source": [
    "df.iloc[1].genres[0][\"name\"]"
   ]
  },
  {
   "cell_type": "code",
   "execution_count": 41,
   "metadata": {},
   "outputs": [
    {
     "data": {
      "text/plain": [
       "0    {'genreId': '21', 'name': 'Rock', 'url': 'http...\n",
       "0    {'genreId': '34', 'name': 'Music', 'url': 'htt...\n",
       "1    {'genreId': '18', 'name': 'Hip-Hop/Rap', 'url'...\n",
       "1    {'genreId': '34', 'name': 'Music', 'url': 'htt...\n",
       "2    {'genreId': '14', 'name': 'Pop', 'url': 'https...\n",
       "2    {'genreId': '34', 'name': 'Music', 'url': 'htt...\n",
       "3    {'genreId': '51', 'name': 'K-Pop', 'url': 'htt...\n",
       "3    {'genreId': '34', 'name': 'Music', 'url': 'htt...\n",
       "3    {'genreId': '14', 'name': 'Pop', 'url': 'https...\n",
       "4    {'genreId': '15', 'name': 'R&B/Soul', 'url': '...\n",
       "4    {'genreId': '34', 'name': 'Music', 'url': 'htt...\n",
       "Name: genres, dtype: object"
      ]
     },
     "execution_count": 41,
     "metadata": {},
     "output_type": "execute_result"
    }
   ],
   "source": [
    "df['genres'].explode()"
   ]
  },
  {
   "cell_type": "code",
   "execution_count": 66,
   "metadata": {},
   "outputs": [
    {
     "data": {
      "text/html": [
       "<div>\n",
       "<style scoped>\n",
       "    .dataframe tbody tr th:only-of-type {\n",
       "        vertical-align: middle;\n",
       "    }\n",
       "\n",
       "    .dataframe tbody tr th {\n",
       "        vertical-align: top;\n",
       "    }\n",
       "\n",
       "    .dataframe thead th {\n",
       "        text-align: right;\n",
       "    }\n",
       "</style>\n",
       "<table border=\"1\" class=\"dataframe\">\n",
       "  <thead>\n",
       "    <tr style=\"text-align: right;\">\n",
       "      <th></th>\n",
       "      <th>genres</th>\n",
       "    </tr>\n",
       "  </thead>\n",
       "  <tbody>\n",
       "    <tr>\n",
       "      <th>0</th>\n",
       "      <td>{'genreId': '21', 'name': 'Rock', 'url': 'http...</td>\n",
       "    </tr>\n",
       "    <tr>\n",
       "      <th>0</th>\n",
       "      <td>{'genreId': '34', 'name': 'Music', 'url': 'htt...</td>\n",
       "    </tr>\n",
       "    <tr>\n",
       "      <th>1</th>\n",
       "      <td>{'genreId': '18', 'name': 'Hip-Hop/Rap', 'url'...</td>\n",
       "    </tr>\n",
       "    <tr>\n",
       "      <th>1</th>\n",
       "      <td>{'genreId': '34', 'name': 'Music', 'url': 'htt...</td>\n",
       "    </tr>\n",
       "    <tr>\n",
       "      <th>2</th>\n",
       "      <td>{'genreId': '14', 'name': 'Pop', 'url': 'https...</td>\n",
       "    </tr>\n",
       "    <tr>\n",
       "      <th>2</th>\n",
       "      <td>{'genreId': '34', 'name': 'Music', 'url': 'htt...</td>\n",
       "    </tr>\n",
       "    <tr>\n",
       "      <th>3</th>\n",
       "      <td>{'genreId': '51', 'name': 'K-Pop', 'url': 'htt...</td>\n",
       "    </tr>\n",
       "    <tr>\n",
       "      <th>3</th>\n",
       "      <td>{'genreId': '34', 'name': 'Music', 'url': 'htt...</td>\n",
       "    </tr>\n",
       "    <tr>\n",
       "      <th>3</th>\n",
       "      <td>{'genreId': '14', 'name': 'Pop', 'url': 'https...</td>\n",
       "    </tr>\n",
       "    <tr>\n",
       "      <th>4</th>\n",
       "      <td>{'genreId': '15', 'name': 'R&amp;B/Soul', 'url': '...</td>\n",
       "    </tr>\n",
       "    <tr>\n",
       "      <th>4</th>\n",
       "      <td>{'genreId': '34', 'name': 'Music', 'url': 'htt...</td>\n",
       "    </tr>\n",
       "  </tbody>\n",
       "</table>\n",
       "</div>"
      ],
      "text/plain": [
       "                                              genres\n",
       "0  {'genreId': '21', 'name': 'Rock', 'url': 'http...\n",
       "0  {'genreId': '34', 'name': 'Music', 'url': 'htt...\n",
       "1  {'genreId': '18', 'name': 'Hip-Hop/Rap', 'url'...\n",
       "1  {'genreId': '34', 'name': 'Music', 'url': 'htt...\n",
       "2  {'genreId': '14', 'name': 'Pop', 'url': 'https...\n",
       "2  {'genreId': '34', 'name': 'Music', 'url': 'htt...\n",
       "3  {'genreId': '51', 'name': 'K-Pop', 'url': 'htt...\n",
       "3  {'genreId': '34', 'name': 'Music', 'url': 'htt...\n",
       "3  {'genreId': '14', 'name': 'Pop', 'url': 'https...\n",
       "4  {'genreId': '15', 'name': 'R&B/Soul', 'url': '...\n",
       "4  {'genreId': '34', 'name': 'Music', 'url': 'htt..."
      ]
     },
     "execution_count": 66,
     "metadata": {},
     "output_type": "execute_result"
    }
   ],
   "source": [
    "dg=pd.DataFrame(df['genres'].explode())\n",
    "dg"
   ]
  },
  {
   "cell_type": "code",
   "execution_count": 79,
   "metadata": {},
   "outputs": [
    {
     "data": {
      "text/html": [
       "<div>\n",
       "<style scoped>\n",
       "    .dataframe tbody tr th:only-of-type {\n",
       "        vertical-align: middle;\n",
       "    }\n",
       "\n",
       "    .dataframe tbody tr th {\n",
       "        vertical-align: top;\n",
       "    }\n",
       "\n",
       "    .dataframe thead th {\n",
       "        text-align: right;\n",
       "    }\n",
       "</style>\n",
       "<table border=\"1\" class=\"dataframe\">\n",
       "  <thead>\n",
       "    <tr style=\"text-align: right;\">\n",
       "      <th></th>\n",
       "      <th>genres</th>\n",
       "    </tr>\n",
       "  </thead>\n",
       "  <tbody>\n",
       "    <tr>\n",
       "      <th>0</th>\n",
       "      <td>{'genreId': '21', 'name': 'Rock', 'url': 'http...</td>\n",
       "    </tr>\n",
       "    <tr>\n",
       "      <th>0</th>\n",
       "      <td>{'genreId': '34', 'name': 'Music', 'url': 'htt...</td>\n",
       "    </tr>\n",
       "  </tbody>\n",
       "</table>\n",
       "</div>"
      ],
      "text/plain": [
       "                                              genres\n",
       "0  {'genreId': '21', 'name': 'Rock', 'url': 'http...\n",
       "0  {'genreId': '34', 'name': 'Music', 'url': 'htt..."
      ]
     },
     "execution_count": 79,
     "metadata": {},
     "output_type": "execute_result"
    }
   ],
   "source": [
    "dg.loc[0]"
   ]
  },
  {
   "cell_type": "code",
   "execution_count": 76,
   "metadata": {},
   "outputs": [
    {
     "data": {
      "text/plain": [
       "genres    {'genreId': '21', 'name': 'Rock', 'url': 'http...\n",
       "Name: 0, dtype: object"
      ]
     },
     "execution_count": 76,
     "metadata": {},
     "output_type": "execute_result"
    }
   ],
   "source": [
    "dg.iloc[0]"
   ]
  },
  {
   "cell_type": "code",
   "execution_count": 77,
   "metadata": {},
   "outputs": [
    {
     "data": {
      "text/plain": [
       "genres    {'genreId': '34', 'name': 'Music', 'url': 'htt...\n",
       "Name: 0, dtype: object"
      ]
     },
     "execution_count": 77,
     "metadata": {},
     "output_type": "execute_result"
    }
   ],
   "source": [
    "dg.iloc[1]"
   ]
  },
  {
   "cell_type": "code",
   "execution_count": 81,
   "metadata": {},
   "outputs": [
    {
     "data": {
      "text/plain": [
       "pandas.core.series.Series"
      ]
     },
     "execution_count": 81,
     "metadata": {},
     "output_type": "execute_result"
    }
   ],
   "source": [
    "type(dg.iloc[1])"
   ]
  },
  {
   "cell_type": "code",
   "execution_count": 82,
   "metadata": {},
   "outputs": [
    {
     "data": {
      "text/plain": [
       "{'genreId': '34',\n",
       " 'name': 'Music',\n",
       " 'url': 'https://itunes.apple.com/th/genre/id34'}"
      ]
     },
     "execution_count": 82,
     "metadata": {},
     "output_type": "execute_result"
    }
   ],
   "source": [
    "dg.iloc[1][0]"
   ]
  },
  {
   "cell_type": "code",
   "execution_count": 83,
   "metadata": {},
   "outputs": [
    {
     "data": {
      "text/plain": [
       "'Music'"
      ]
     },
     "execution_count": 83,
     "metadata": {},
     "output_type": "execute_result"
    }
   ],
   "source": [
    "dg.iloc[1][0]['name']"
   ]
  },
  {
   "cell_type": "code",
   "execution_count": 61,
   "metadata": {},
   "outputs": [
    {
     "data": {
      "text/html": [
       "<div>\n",
       "<style scoped>\n",
       "    .dataframe tbody tr th:only-of-type {\n",
       "        vertical-align: middle;\n",
       "    }\n",
       "\n",
       "    .dataframe tbody tr th {\n",
       "        vertical-align: top;\n",
       "    }\n",
       "\n",
       "    .dataframe thead th {\n",
       "        text-align: right;\n",
       "    }\n",
       "</style>\n",
       "<table border=\"1\" class=\"dataframe\">\n",
       "  <thead>\n",
       "    <tr style=\"text-align: right;\">\n",
       "      <th></th>\n",
       "      <th>genreId</th>\n",
       "      <th>name</th>\n",
       "      <th>url</th>\n",
       "    </tr>\n",
       "  </thead>\n",
       "  <tbody>\n",
       "    <tr>\n",
       "      <th>0</th>\n",
       "      <td>21</td>\n",
       "      <td>Rock</td>\n",
       "      <td>https://itunes.apple.com/th/genre/id21</td>\n",
       "    </tr>\n",
       "    <tr>\n",
       "      <th>1</th>\n",
       "      <td>34</td>\n",
       "      <td>Music</td>\n",
       "      <td>https://itunes.apple.com/th/genre/id34</td>\n",
       "    </tr>\n",
       "    <tr>\n",
       "      <th>2</th>\n",
       "      <td>18</td>\n",
       "      <td>Hip-Hop/Rap</td>\n",
       "      <td>https://itunes.apple.com/th/genre/id18</td>\n",
       "    </tr>\n",
       "    <tr>\n",
       "      <th>3</th>\n",
       "      <td>34</td>\n",
       "      <td>Music</td>\n",
       "      <td>https://itunes.apple.com/th/genre/id34</td>\n",
       "    </tr>\n",
       "    <tr>\n",
       "      <th>4</th>\n",
       "      <td>14</td>\n",
       "      <td>Pop</td>\n",
       "      <td>https://itunes.apple.com/th/genre/id14</td>\n",
       "    </tr>\n",
       "    <tr>\n",
       "      <th>5</th>\n",
       "      <td>34</td>\n",
       "      <td>Music</td>\n",
       "      <td>https://itunes.apple.com/th/genre/id34</td>\n",
       "    </tr>\n",
       "    <tr>\n",
       "      <th>6</th>\n",
       "      <td>51</td>\n",
       "      <td>K-Pop</td>\n",
       "      <td>https://itunes.apple.com/th/genre/id51</td>\n",
       "    </tr>\n",
       "    <tr>\n",
       "      <th>7</th>\n",
       "      <td>34</td>\n",
       "      <td>Music</td>\n",
       "      <td>https://itunes.apple.com/th/genre/id34</td>\n",
       "    </tr>\n",
       "    <tr>\n",
       "      <th>8</th>\n",
       "      <td>14</td>\n",
       "      <td>Pop</td>\n",
       "      <td>https://itunes.apple.com/th/genre/id14</td>\n",
       "    </tr>\n",
       "    <tr>\n",
       "      <th>9</th>\n",
       "      <td>15</td>\n",
       "      <td>R&amp;B/Soul</td>\n",
       "      <td>https://itunes.apple.com/th/genre/id15</td>\n",
       "    </tr>\n",
       "    <tr>\n",
       "      <th>10</th>\n",
       "      <td>34</td>\n",
       "      <td>Music</td>\n",
       "      <td>https://itunes.apple.com/th/genre/id34</td>\n",
       "    </tr>\n",
       "  </tbody>\n",
       "</table>\n",
       "</div>"
      ],
      "text/plain": [
       "   genreId         name                                     url\n",
       "0       21         Rock  https://itunes.apple.com/th/genre/id21\n",
       "1       34        Music  https://itunes.apple.com/th/genre/id34\n",
       "2       18  Hip-Hop/Rap  https://itunes.apple.com/th/genre/id18\n",
       "3       34        Music  https://itunes.apple.com/th/genre/id34\n",
       "4       14          Pop  https://itunes.apple.com/th/genre/id14\n",
       "5       34        Music  https://itunes.apple.com/th/genre/id34\n",
       "6       51        K-Pop  https://itunes.apple.com/th/genre/id51\n",
       "7       34        Music  https://itunes.apple.com/th/genre/id34\n",
       "8       14          Pop  https://itunes.apple.com/th/genre/id14\n",
       "9       15     R&B/Soul  https://itunes.apple.com/th/genre/id15\n",
       "10      34        Music  https://itunes.apple.com/th/genre/id34"
      ]
     },
     "execution_count": 61,
     "metadata": {},
     "output_type": "execute_result"
    }
   ],
   "source": [
    "pd.json_normalize(dg['genres'], )"
   ]
  },
  {
   "cell_type": "markdown",
   "metadata": {},
   "source": [
    "---"
   ]
  },
  {
   "cell_type": "code",
   "execution_count": 17,
   "metadata": {},
   "outputs": [
    {
     "data": {
      "text/html": [
       "<div>\n",
       "<style scoped>\n",
       "    .dataframe tbody tr th:only-of-type {\n",
       "        vertical-align: middle;\n",
       "    }\n",
       "\n",
       "    .dataframe tbody tr th {\n",
       "        vertical-align: top;\n",
       "    }\n",
       "\n",
       "    .dataframe thead th {\n",
       "        text-align: right;\n",
       "    }\n",
       "</style>\n",
       "<table border=\"1\" class=\"dataframe\">\n",
       "  <thead>\n",
       "    <tr style=\"text-align: right;\">\n",
       "      <th></th>\n",
       "      <th>feed</th>\n",
       "    </tr>\n",
       "  </thead>\n",
       "  <tbody>\n",
       "    <tr>\n",
       "      <th>author</th>\n",
       "      <td>{'name': 'iTunes Store', 'uri': 'http://wwww.a...</td>\n",
       "    </tr>\n",
       "    <tr>\n",
       "      <th>copyright</th>\n",
       "      <td>Copyright © 2018 Apple Inc. All rights reserved.</td>\n",
       "    </tr>\n",
       "    <tr>\n",
       "      <th>country</th>\n",
       "      <td>th</td>\n",
       "    </tr>\n",
       "    <tr>\n",
       "      <th>icon</th>\n",
       "      <td>http://itunes.apple.com/favicon.ico</td>\n",
       "    </tr>\n",
       "    <tr>\n",
       "      <th>id</th>\n",
       "      <td>https://rss.itunes.apple.com/api/v1/th/apple-m...</td>\n",
       "    </tr>\n",
       "    <tr>\n",
       "      <th>links</th>\n",
       "      <td>[{'self': 'https://rss.itunes.apple.com/api/v1...</td>\n",
       "    </tr>\n",
       "    <tr>\n",
       "      <th>results</th>\n",
       "      <td>[{'artistName': 'Three Man Down', 'id': '15429...</td>\n",
       "    </tr>\n",
       "    <tr>\n",
       "      <th>title</th>\n",
       "      <td>Top Songs</td>\n",
       "    </tr>\n",
       "    <tr>\n",
       "      <th>updated</th>\n",
       "      <td>2021-02-03T01:44:28.000-08:00</td>\n",
       "    </tr>\n",
       "  </tbody>\n",
       "</table>\n",
       "</div>"
      ],
      "text/plain": [
       "                                                        feed\n",
       "author     {'name': 'iTunes Store', 'uri': 'http://wwww.a...\n",
       "copyright   Copyright © 2018 Apple Inc. All rights reserved.\n",
       "country                                                   th\n",
       "icon                     http://itunes.apple.com/favicon.ico\n",
       "id         https://rss.itunes.apple.com/api/v1/th/apple-m...\n",
       "links      [{'self': 'https://rss.itunes.apple.com/api/v1...\n",
       "results    [{'artistName': 'Three Man Down', 'id': '15429...\n",
       "title                                              Top Songs\n",
       "updated                        2021-02-03T01:44:28.000-08:00"
      ]
     },
     "execution_count": 17,
     "metadata": {},
     "output_type": "execute_result"
    }
   ],
   "source": [
    "df=pd.read_json(url)\n",
    "df"
   ]
  },
  {
   "cell_type": "code",
   "execution_count": 18,
   "metadata": {
    "scrolled": true
   },
   "outputs": [
    {
     "data": {
      "text/plain": [
       "feed    [{'artistName': 'Three Man Down', 'id': '15429...\n",
       "Name: results, dtype: object"
      ]
     },
     "execution_count": 18,
     "metadata": {},
     "output_type": "execute_result"
    }
   ],
   "source": [
    "df.loc['results']"
   ]
  },
  {
   "cell_type": "code",
   "execution_count": 19,
   "metadata": {
    "scrolled": true
   },
   "outputs": [
    {
     "data": {
      "text/plain": [
       "[{'artistName': 'Three Man Down',\n",
       "  'id': '1542919098',\n",
       "  'releaseDate': '2020-12-15',\n",
       "  'name': 'ถ้าเธอรักฉันจริง',\n",
       "  'collectionName': 'ถ้าเธอรักฉันจริง - Single',\n",
       "  'kind': 'song',\n",
       "  'copyright': '℗ 2020 GMM Grammy PCL.',\n",
       "  'artistId': '1114898204',\n",
       "  'artistUrl': 'https://music.apple.com/th/artist/three-man-down/1114898204?app=music',\n",
       "  'artworkUrl100': 'https://is2-ssl.mzstatic.com/image/thumb/Music124/v4/ce/87/9c/ce879c94-75f9-262b-37f8-c50391d29ec1/2009521901.jpg/200x200bb.png',\n",
       "  'genres': [{'genreId': '21',\n",
       "    'name': 'Rock',\n",
       "    'url': 'https://itunes.apple.com/th/genre/id21'},\n",
       "   {'genreId': '34',\n",
       "    'name': 'Music',\n",
       "    'url': 'https://itunes.apple.com/th/genre/id34'}],\n",
       "  'url': 'https://music.apple.com/th/album/%E0%B8%96-%E0%B8%B2%E0%B9%80%E0%B8%98%E0%B8%AD%E0%B8%A3-%E0%B8%81%E0%B8%89-%E0%B8%99%E0%B8%88%E0%B8%A3-%E0%B8%87/1542919096?i=1542919098&app=music'},\n",
       " {'artistName': 'F.HERO',\n",
       "  'id': '1538397084',\n",
       "  'releaseDate': '2020-11-17',\n",
       "  'name': 'จำเลยรัก (feat. Txrbo) [Defendant Of Love]',\n",
       "  'collectionName': 'จำเลยรัก (feat. Txrbo) [Defendant Of Love] - Single',\n",
       "  'kind': 'song',\n",
       "  'copyright': '℗ 2020 What The Duck',\n",
       "  'artistId': '1408535810',\n",
       "  'artistUrl': 'https://music.apple.com/th/artist/f-hero/1408535810?app=music',\n",
       "  'artworkUrl100': 'https://is5-ssl.mzstatic.com/image/thumb/Music124/v4/ed/65/53/ed6553f4-1494-576a-1c9a-1647ea8ddd84/cover.jpg/200x200bb.png',\n",
       "  'genres': [{'genreId': '18',\n",
       "    'name': 'Hip-Hop/Rap',\n",
       "    'url': 'https://itunes.apple.com/th/genre/id18'},\n",
       "   {'genreId': '34',\n",
       "    'name': 'Music',\n",
       "    'url': 'https://itunes.apple.com/th/genre/id34'}],\n",
       "  'url': 'https://music.apple.com/th/album/%E0%B8%88%E0%B8%B3%E0%B9%80%E0%B8%A5%E0%B8%A2%E0%B8%A3-%E0%B8%81-feat-txrbo-defendant-of-love/1538396965?i=1538397084&app=music'},\n",
       " {'artistName': 'Anatomy Rabbit',\n",
       "  'id': '1543654428',\n",
       "  'releaseDate': '2020-12-10',\n",
       "  'name': 'Extraordinary',\n",
       "  'collectionName': 'Extraordinary - Single',\n",
       "  'kind': 'song',\n",
       "  'copyright': '℗ 2020 Anatomy Rabbit',\n",
       "  'artistId': '1456053491',\n",
       "  'artistUrl': 'https://music.apple.com/th/artist/anatomy-rabbit/1456053491?app=music',\n",
       "  'artworkUrl100': 'https://is4-ssl.mzstatic.com/image/thumb/Music114/v4/ef/2d/d9/ef2dd9d2-15d5-ad42-dd7f-6a57549a1b48/859744215054_cover.jpg/200x200bb.png',\n",
       "  'genres': [{'genreId': '14',\n",
       "    'name': 'Pop',\n",
       "    'url': 'https://itunes.apple.com/th/genre/id14'},\n",
       "   {'genreId': '34',\n",
       "    'name': 'Music',\n",
       "    'url': 'https://itunes.apple.com/th/genre/id34'}],\n",
       "  'url': 'https://music.apple.com/th/album/extraordinary/1543654427?i=1543654428&app=music'},\n",
       " {'artistName': 'IU',\n",
       "  'id': '1550907277',\n",
       "  'releaseDate': '2021-01-27',\n",
       "  'name': 'Celebrity',\n",
       "  'collectionName': 'Celebrity - Single',\n",
       "  'kind': 'song',\n",
       "  'copyright': '℗ 2021 EDAM Entertainment',\n",
       "  'artistId': '409076743',\n",
       "  'artistUrl': 'https://music.apple.com/th/artist/iu/409076743?app=music',\n",
       "  'artworkUrl100': 'https://is1-ssl.mzstatic.com/image/thumb/Music114/v4/0a/75/d6/0a75d69e-70e7-3d7a-62da-5b198cd03673/cover_KM0012462_1.jpg/200x200bb.png',\n",
       "  'genres': [{'genreId': '51',\n",
       "    'name': 'K-Pop',\n",
       "    'url': 'https://itunes.apple.com/th/genre/id51'},\n",
       "   {'genreId': '34',\n",
       "    'name': 'Music',\n",
       "    'url': 'https://itunes.apple.com/th/genre/id34'},\n",
       "   {'genreId': '14',\n",
       "    'name': 'Pop',\n",
       "    'url': 'https://itunes.apple.com/th/genre/id14'}],\n",
       "  'url': 'https://music.apple.com/th/album/celebrity/1550907276?i=1550907277&app=music'},\n",
       " {'artistName': 'Pink Sweat$',\n",
       "  'id': '1523339738',\n",
       "  'releaseDate': '2020-07-17',\n",
       "  'name': 'At My Worst',\n",
       "  'collectionName': 'The Prelude - EP',\n",
       "  'kind': 'song',\n",
       "  'copyright': '℗ 2020 Atlantic Recording Corporation',\n",
       "  'artistId': '1402222881',\n",
       "  'artistUrl': 'https://music.apple.com/th/artist/pink-sweat%24/1402222881?app=music',\n",
       "  'artworkUrl100': 'https://is2-ssl.mzstatic.com/image/thumb/Music114/v4/87/d2/64/87d264d1-1d6f-b3fe-03d5-569836d8381f/075679810465.jpg/200x200bb.png',\n",
       "  'genres': [{'genreId': '15',\n",
       "    'name': 'R&B/Soul',\n",
       "    'url': 'https://itunes.apple.com/th/genre/id15'},\n",
       "   {'genreId': '34',\n",
       "    'name': 'Music',\n",
       "    'url': 'https://itunes.apple.com/th/genre/id34'}],\n",
       "  'url': 'https://music.apple.com/th/album/at-my-worst/1523339532?i=1523339738&app=music'}]"
      ]
     },
     "execution_count": 19,
     "metadata": {},
     "output_type": "execute_result"
    }
   ],
   "source": [
    "df.loc['results'][0]"
   ]
  },
  {
   "cell_type": "code",
   "execution_count": 20,
   "metadata": {},
   "outputs": [
    {
     "data": {
      "text/html": [
       "<div>\n",
       "<style scoped>\n",
       "    .dataframe tbody tr th:only-of-type {\n",
       "        vertical-align: middle;\n",
       "    }\n",
       "\n",
       "    .dataframe tbody tr th {\n",
       "        vertical-align: top;\n",
       "    }\n",
       "\n",
       "    .dataframe thead th {\n",
       "        text-align: right;\n",
       "    }\n",
       "</style>\n",
       "<table border=\"1\" class=\"dataframe\">\n",
       "  <thead>\n",
       "    <tr style=\"text-align: right;\">\n",
       "      <th></th>\n",
       "      <th>artistName</th>\n",
       "      <th>id</th>\n",
       "      <th>releaseDate</th>\n",
       "      <th>name</th>\n",
       "      <th>collectionName</th>\n",
       "      <th>kind</th>\n",
       "      <th>copyright</th>\n",
       "      <th>artistId</th>\n",
       "      <th>artistUrl</th>\n",
       "      <th>artworkUrl100</th>\n",
       "      <th>genres</th>\n",
       "      <th>url</th>\n",
       "    </tr>\n",
       "  </thead>\n",
       "  <tbody>\n",
       "    <tr>\n",
       "      <th>0</th>\n",
       "      <td>Three Man Down</td>\n",
       "      <td>1542919098</td>\n",
       "      <td>2020-12-15</td>\n",
       "      <td>ถ้าเธอรักฉันจริง</td>\n",
       "      <td>ถ้าเธอรักฉันจริง - Single</td>\n",
       "      <td>song</td>\n",
       "      <td>℗ 2020 GMM Grammy PCL.</td>\n",
       "      <td>1114898204</td>\n",
       "      <td>https://music.apple.com/th/artist/three-man-do...</td>\n",
       "      <td>https://is2-ssl.mzstatic.com/image/thumb/Music...</td>\n",
       "      <td>[{'genreId': '21', 'name': 'Rock', 'url': 'htt...</td>\n",
       "      <td>https://music.apple.com/th/album/%E0%B8%96-%E0...</td>\n",
       "    </tr>\n",
       "    <tr>\n",
       "      <th>1</th>\n",
       "      <td>F.HERO</td>\n",
       "      <td>1538397084</td>\n",
       "      <td>2020-11-17</td>\n",
       "      <td>จำเลยรัก (feat. Txrbo) [Defendant Of Love]</td>\n",
       "      <td>จำเลยรัก (feat. Txrbo) [Defendant Of Love] - S...</td>\n",
       "      <td>song</td>\n",
       "      <td>℗ 2020 What The Duck</td>\n",
       "      <td>1408535810</td>\n",
       "      <td>https://music.apple.com/th/artist/f-hero/14085...</td>\n",
       "      <td>https://is5-ssl.mzstatic.com/image/thumb/Music...</td>\n",
       "      <td>[{'genreId': '18', 'name': 'Hip-Hop/Rap', 'url...</td>\n",
       "      <td>https://music.apple.com/th/album/%E0%B8%88%E0%...</td>\n",
       "    </tr>\n",
       "    <tr>\n",
       "      <th>2</th>\n",
       "      <td>Anatomy Rabbit</td>\n",
       "      <td>1543654428</td>\n",
       "      <td>2020-12-10</td>\n",
       "      <td>Extraordinary</td>\n",
       "      <td>Extraordinary - Single</td>\n",
       "      <td>song</td>\n",
       "      <td>℗ 2020 Anatomy Rabbit</td>\n",
       "      <td>1456053491</td>\n",
       "      <td>https://music.apple.com/th/artist/anatomy-rabb...</td>\n",
       "      <td>https://is4-ssl.mzstatic.com/image/thumb/Music...</td>\n",
       "      <td>[{'genreId': '14', 'name': 'Pop', 'url': 'http...</td>\n",
       "      <td>https://music.apple.com/th/album/extraordinary...</td>\n",
       "    </tr>\n",
       "    <tr>\n",
       "      <th>3</th>\n",
       "      <td>IU</td>\n",
       "      <td>1550907277</td>\n",
       "      <td>2021-01-27</td>\n",
       "      <td>Celebrity</td>\n",
       "      <td>Celebrity - Single</td>\n",
       "      <td>song</td>\n",
       "      <td>℗ 2021 EDAM Entertainment</td>\n",
       "      <td>409076743</td>\n",
       "      <td>https://music.apple.com/th/artist/iu/409076743...</td>\n",
       "      <td>https://is1-ssl.mzstatic.com/image/thumb/Music...</td>\n",
       "      <td>[{'genreId': '51', 'name': 'K-Pop', 'url': 'ht...</td>\n",
       "      <td>https://music.apple.com/th/album/celebrity/155...</td>\n",
       "    </tr>\n",
       "    <tr>\n",
       "      <th>4</th>\n",
       "      <td>Pink Sweat$</td>\n",
       "      <td>1523339738</td>\n",
       "      <td>2020-07-17</td>\n",
       "      <td>At My Worst</td>\n",
       "      <td>The Prelude - EP</td>\n",
       "      <td>song</td>\n",
       "      <td>℗ 2020 Atlantic Recording Corporation</td>\n",
       "      <td>1402222881</td>\n",
       "      <td>https://music.apple.com/th/artist/pink-sweat%2...</td>\n",
       "      <td>https://is2-ssl.mzstatic.com/image/thumb/Music...</td>\n",
       "      <td>[{'genreId': '15', 'name': 'R&amp;B/Soul', 'url': ...</td>\n",
       "      <td>https://music.apple.com/th/album/at-my-worst/1...</td>\n",
       "    </tr>\n",
       "  </tbody>\n",
       "</table>\n",
       "</div>"
      ],
      "text/plain": [
       "       artistName          id releaseDate  \\\n",
       "0  Three Man Down  1542919098  2020-12-15   \n",
       "1          F.HERO  1538397084  2020-11-17   \n",
       "2  Anatomy Rabbit  1543654428  2020-12-10   \n",
       "3              IU  1550907277  2021-01-27   \n",
       "4     Pink Sweat$  1523339738  2020-07-17   \n",
       "\n",
       "                                         name  \\\n",
       "0                            ถ้าเธอรักฉันจริง   \n",
       "1  จำเลยรัก (feat. Txrbo) [Defendant Of Love]   \n",
       "2                               Extraordinary   \n",
       "3                                   Celebrity   \n",
       "4                                 At My Worst   \n",
       "\n",
       "                                      collectionName  kind  \\\n",
       "0                          ถ้าเธอรักฉันจริง - Single  song   \n",
       "1  จำเลยรัก (feat. Txrbo) [Defendant Of Love] - S...  song   \n",
       "2                             Extraordinary - Single  song   \n",
       "3                                 Celebrity - Single  song   \n",
       "4                                   The Prelude - EP  song   \n",
       "\n",
       "                               copyright    artistId  \\\n",
       "0                 ℗ 2020 GMM Grammy PCL.  1114898204   \n",
       "1                   ℗ 2020 What The Duck  1408535810   \n",
       "2                  ℗ 2020 Anatomy Rabbit  1456053491   \n",
       "3              ℗ 2021 EDAM Entertainment   409076743   \n",
       "4  ℗ 2020 Atlantic Recording Corporation  1402222881   \n",
       "\n",
       "                                           artistUrl  \\\n",
       "0  https://music.apple.com/th/artist/three-man-do...   \n",
       "1  https://music.apple.com/th/artist/f-hero/14085...   \n",
       "2  https://music.apple.com/th/artist/anatomy-rabb...   \n",
       "3  https://music.apple.com/th/artist/iu/409076743...   \n",
       "4  https://music.apple.com/th/artist/pink-sweat%2...   \n",
       "\n",
       "                                       artworkUrl100  \\\n",
       "0  https://is2-ssl.mzstatic.com/image/thumb/Music...   \n",
       "1  https://is5-ssl.mzstatic.com/image/thumb/Music...   \n",
       "2  https://is4-ssl.mzstatic.com/image/thumb/Music...   \n",
       "3  https://is1-ssl.mzstatic.com/image/thumb/Music...   \n",
       "4  https://is2-ssl.mzstatic.com/image/thumb/Music...   \n",
       "\n",
       "                                              genres  \\\n",
       "0  [{'genreId': '21', 'name': 'Rock', 'url': 'htt...   \n",
       "1  [{'genreId': '18', 'name': 'Hip-Hop/Rap', 'url...   \n",
       "2  [{'genreId': '14', 'name': 'Pop', 'url': 'http...   \n",
       "3  [{'genreId': '51', 'name': 'K-Pop', 'url': 'ht...   \n",
       "4  [{'genreId': '15', 'name': 'R&B/Soul', 'url': ...   \n",
       "\n",
       "                                                 url  \n",
       "0  https://music.apple.com/th/album/%E0%B8%96-%E0...  \n",
       "1  https://music.apple.com/th/album/%E0%B8%88%E0%...  \n",
       "2  https://music.apple.com/th/album/extraordinary...  \n",
       "3  https://music.apple.com/th/album/celebrity/155...  \n",
       "4  https://music.apple.com/th/album/at-my-worst/1...  "
      ]
     },
     "execution_count": 20,
     "metadata": {},
     "output_type": "execute_result"
    }
   ],
   "source": [
    "x=pd.DataFrame(df.loc['results'][0])\n",
    "x.head()"
   ]
  },
  {
   "cell_type": "code",
   "execution_count": 14,
   "metadata": {},
   "outputs": [
    {
     "name": "stdout",
     "output_type": "stream",
     "text": [
      "<class 'pandas.core.frame.DataFrame'>\n",
      "RangeIndex: 50 entries, 0 to 49\n",
      "Data columns (total 12 columns):\n",
      "artistName        50 non-null object\n",
      "id                50 non-null object\n",
      "releaseDate       49 non-null object\n",
      "name              50 non-null object\n",
      "collectionName    50 non-null object\n",
      "kind              50 non-null object\n",
      "copyright         50 non-null object\n",
      "artistId          50 non-null object\n",
      "artistUrl         50 non-null object\n",
      "artworkUrl100     50 non-null object\n",
      "genres            50 non-null object\n",
      "url               50 non-null object\n",
      "dtypes: object(12)\n",
      "memory usage: 4.8+ KB\n"
     ]
    }
   ],
   "source": [
    "x.info()"
   ]
  },
  {
   "cell_type": "code",
   "execution_count": 15,
   "metadata": {},
   "outputs": [
    {
     "data": {
      "text/plain": [
       "0    [{'genreId': '16', 'name': 'Soundtrack', 'url'...\n",
       "1    [{'genreId': '21', 'name': 'Rock', 'url': 'htt...\n",
       "2    [{'genreId': '14', 'name': 'Pop', 'url': 'http...\n",
       "3    [{'genreId': '14', 'name': 'Pop', 'url': 'http...\n",
       "4    [{'genreId': '14', 'name': 'Pop', 'url': 'http...\n",
       "Name: genres, dtype: object"
      ]
     },
     "execution_count": 15,
     "metadata": {},
     "output_type": "execute_result"
    }
   ],
   "source": [
    "x[:5].genres"
   ]
  },
  {
   "cell_type": "code",
   "execution_count": 16,
   "metadata": {},
   "outputs": [
    {
     "data": {
      "text/plain": [
       "[{'genreId': '16',\n",
       "  'name': 'Soundtrack',\n",
       "  'url': 'https://itunes.apple.com/th/genre/id16'},\n",
       " {'genreId': '34',\n",
       "  'name': 'Music',\n",
       "  'url': 'https://itunes.apple.com/th/genre/id34'}]"
      ]
     },
     "execution_count": 16,
     "metadata": {},
     "output_type": "execute_result"
    }
   ],
   "source": [
    "x[:5].genres[0]"
   ]
  },
  {
   "cell_type": "code",
   "execution_count": 17,
   "metadata": {},
   "outputs": [
    {
     "data": {
      "text/plain": [
       "list"
      ]
     },
     "execution_count": 17,
     "metadata": {},
     "output_type": "execute_result"
    }
   ],
   "source": [
    "type(x[:5].genres[0])"
   ]
  },
  {
   "cell_type": "code",
   "execution_count": 18,
   "metadata": {},
   "outputs": [
    {
     "data": {
      "text/plain": [
       "{'genreId': '16',\n",
       " 'name': 'Soundtrack',\n",
       " 'url': 'https://itunes.apple.com/th/genre/id16'}"
      ]
     },
     "execution_count": 18,
     "metadata": {},
     "output_type": "execute_result"
    }
   ],
   "source": [
    "x.iloc[0].genres[0]"
   ]
  },
  {
   "cell_type": "code",
   "execution_count": 19,
   "metadata": {},
   "outputs": [
    {
     "data": {
      "text/plain": [
       "'16'"
      ]
     },
     "execution_count": 19,
     "metadata": {},
     "output_type": "execute_result"
    }
   ],
   "source": [
    "x.iloc[0].genres[0][\"genreId\"]"
   ]
  },
  {
   "cell_type": "code",
   "execution_count": 20,
   "metadata": {},
   "outputs": [
    {
     "data": {
      "text/plain": [
       "'Soundtrack'"
      ]
     },
     "execution_count": 20,
     "metadata": {},
     "output_type": "execute_result"
    }
   ],
   "source": [
    "x.iloc[0].genres[0][\"name\"]"
   ]
  },
  {
   "cell_type": "code",
   "execution_count": 21,
   "metadata": {},
   "outputs": [
    {
     "data": {
      "text/plain": [
       "'https://itunes.apple.com/th/genre/id16'"
      ]
     },
     "execution_count": 21,
     "metadata": {},
     "output_type": "execute_result"
    }
   ],
   "source": [
    "x.iloc[0].genres[0][\"url\"]"
   ]
  },
  {
   "cell_type": "code",
   "execution_count": 22,
   "metadata": {},
   "outputs": [],
   "source": [
    "x.to_csv('apple_music_th.csv', index=False, sep='|')"
   ]
  },
  {
   "cell_type": "code",
   "execution_count": null,
   "metadata": {
    "colab": {},
    "colab_type": "code",
    "id": "71xHS_F-5ltu"
   },
   "outputs": [],
   "source": []
  }
 ],
 "metadata": {
  "colab": {
   "collapsed_sections": [],
   "name": "read_json.ipynb",
   "provenance": [],
   "version": "0.3.2"
  },
  "kernelspec": {
   "display_name": "Python 3",
   "language": "python",
   "name": "python3"
  },
  "language_info": {
   "codemirror_mode": {
    "name": "ipython",
    "version": 3
   },
   "file_extension": ".py",
   "mimetype": "text/x-python",
   "name": "python",
   "nbconvert_exporter": "python",
   "pygments_lexer": "ipython3",
   "version": "3.7.9"
  },
  "widgets": {
   "application/vnd.jupyter.widget-state+json": {
    "state": {},
    "version_major": 2,
    "version_minor": 0
   }
  }
 },
 "nbformat": 4,
 "nbformat_minor": 4
}
